{
  "cells": [
    {
      "cell_type": "code",
      "execution_count": 311,
      "metadata": {
        "id": "sByFDoTH-bVW"
      },
      "outputs": [],
      "source": [
        "import numpy as np\n",
        "import pandas as pd\n",
        "import matplotlib.pyplot as plt\n",
        "import seaborn as sns\n",
        "from sklearn.preprocessing import StandardScaler\n",
        "from imblearn.over_sampling import RandomOverSampler\n",
        "from sklearn.cluster import KMeans\n",
        "from sklearn.neighbors import KNeighborsClassifier\n",
        "from sklearn.metrics import classification_report\n",
        "from sklearn.tree import DecisionTreeClassifier\n",
        "from sklearn.naive_bayes import GaussianNB\n",
        "from sklearn.linear_model import LogisticRegression\n",
        "from sklearn.ensemble import RandomForestClassifier\n",
        "from sklearn.cluster import DBSCAN\n",
        "from sklearn.decomposition import PCA\n",
        "from sklearn.cluster import KMeans\n",
        "from scipy.spatial.distance import cdist\n",
        "from xgboost import XGBClassifier"
      ]
    },
    {
      "cell_type": "markdown",
      "metadata": {
        "id": "kS34lm9P-7dP"
      },
      "source": [
        "Load Data"
      ]
    },
    {
      "cell_type": "code",
      "execution_count": 312,
      "metadata": {
        "colab": {
          "base_uri": "https://localhost:8080/",
          "height": 273
        },
        "id": "1eN4BJ0c-dz4",
        "outputId": "c813e379-f03b-4750-f04c-c32114a91dfb"
      },
      "outputs": [
        {
          "data": {
            "text/html": [
              "<div>\n",
              "<style scoped>\n",
              "    .dataframe tbody tr th:only-of-type {\n",
              "        vertical-align: middle;\n",
              "    }\n",
              "\n",
              "    .dataframe tbody tr th {\n",
              "        vertical-align: top;\n",
              "    }\n",
              "\n",
              "    .dataframe thead th {\n",
              "        text-align: right;\n",
              "    }\n",
              "</style>\n",
              "<table border=\"1\" class=\"dataframe\">\n",
              "  <thead>\n",
              "    <tr style=\"text-align: right;\">\n",
              "      <th></th>\n",
              "      <th>match_date</th>\n",
              "      <th>team_1</th>\n",
              "      <th>team_2</th>\n",
              "      <th>t1_points</th>\n",
              "      <th>t2_points</th>\n",
              "      <th>t1_world_rank</th>\n",
              "      <th>t2_world_rank</th>\n",
              "      <th>t1_h2h_win_perc</th>\n",
              "      <th>t2_h2h_win_perc</th>\n",
              "      <th>winner</th>\n",
              "      <th>...</th>\n",
              "      <th>t2_player5_dpr</th>\n",
              "      <th>t2_player5_spr</th>\n",
              "      <th>t2_player5_opk_ratio</th>\n",
              "      <th>t2_player5_opk_rating</th>\n",
              "      <th>t2_player5_wins_perc_after_fk</th>\n",
              "      <th>t2_player5_fk_perc_in_wins</th>\n",
              "      <th>t2_player5_multikill_perc</th>\n",
              "      <th>t2_player5_rating_at_least_one_perc</th>\n",
              "      <th>t2_player5_is_sniper</th>\n",
              "      <th>t2_player5_clutch_win_perc</th>\n",
              "    </tr>\n",
              "  </thead>\n",
              "  <tbody>\n",
              "    <tr>\n",
              "      <th>0</th>\n",
              "      <td>2016-12-18</td>\n",
              "      <td>CLOUD9</td>\n",
              "      <td>HELLRAISERS</td>\n",
              "      <td>13</td>\n",
              "      <td>16</td>\n",
              "      <td>9</td>\n",
              "      <td>20</td>\n",
              "      <td>0.500000</td>\n",
              "      <td>0.500000</td>\n",
              "      <td>t2</td>\n",
              "      <td>...</td>\n",
              "      <td>0.63</td>\n",
              "      <td>0.10</td>\n",
              "      <td>1.05</td>\n",
              "      <td>0.92</td>\n",
              "      <td>0.733</td>\n",
              "      <td>0.104</td>\n",
              "      <td>0.147018</td>\n",
              "      <td>0.528</td>\n",
              "      <td>False</td>\n",
              "      <td>0.666667</td>\n",
              "    </tr>\n",
              "    <tr>\n",
              "      <th>1</th>\n",
              "      <td>2016-12-18</td>\n",
              "      <td>IMMORTALS</td>\n",
              "      <td>G2</td>\n",
              "      <td>17</td>\n",
              "      <td>19</td>\n",
              "      <td>13</td>\n",
              "      <td>10</td>\n",
              "      <td>0.500000</td>\n",
              "      <td>0.500000</td>\n",
              "      <td>t2</td>\n",
              "      <td>...</td>\n",
              "      <td>0.69</td>\n",
              "      <td>0.09</td>\n",
              "      <td>0.85</td>\n",
              "      <td>0.96</td>\n",
              "      <td>0.739</td>\n",
              "      <td>0.147</td>\n",
              "      <td>0.135810</td>\n",
              "      <td>0.438</td>\n",
              "      <td>True</td>\n",
              "      <td>0.406250</td>\n",
              "    </tr>\n",
              "    <tr>\n",
              "      <th>2</th>\n",
              "      <td>2016-12-18</td>\n",
              "      <td>MOUSESPORTS</td>\n",
              "      <td>IMMORTALS</td>\n",
              "      <td>16</td>\n",
              "      <td>3</td>\n",
              "      <td>12</td>\n",
              "      <td>13</td>\n",
              "      <td>0.500000</td>\n",
              "      <td>0.500000</td>\n",
              "      <td>t1</td>\n",
              "      <td>...</td>\n",
              "      <td>0.67</td>\n",
              "      <td>0.07</td>\n",
              "      <td>0.79</td>\n",
              "      <td>0.94</td>\n",
              "      <td>0.723</td>\n",
              "      <td>0.129</td>\n",
              "      <td>0.148257</td>\n",
              "      <td>0.526</td>\n",
              "      <td>False</td>\n",
              "      <td>0.733333</td>\n",
              "    </tr>\n",
              "    <tr>\n",
              "      <th>3</th>\n",
              "      <td>2016-12-18</td>\n",
              "      <td>DIGNITAS</td>\n",
              "      <td>G2</td>\n",
              "      <td>16</td>\n",
              "      <td>9</td>\n",
              "      <td>6</td>\n",
              "      <td>10</td>\n",
              "      <td>0.416667</td>\n",
              "      <td>0.583333</td>\n",
              "      <td>t1</td>\n",
              "      <td>...</td>\n",
              "      <td>0.69</td>\n",
              "      <td>0.09</td>\n",
              "      <td>0.85</td>\n",
              "      <td>0.96</td>\n",
              "      <td>0.739</td>\n",
              "      <td>0.147</td>\n",
              "      <td>0.135810</td>\n",
              "      <td>0.438</td>\n",
              "      <td>True</td>\n",
              "      <td>0.406250</td>\n",
              "    </tr>\n",
              "    <tr>\n",
              "      <th>4</th>\n",
              "      <td>2016-12-18</td>\n",
              "      <td>OPTIC</td>\n",
              "      <td>HELLRAISERS</td>\n",
              "      <td>16</td>\n",
              "      <td>10</td>\n",
              "      <td>4</td>\n",
              "      <td>20</td>\n",
              "      <td>0.500000</td>\n",
              "      <td>0.500000</td>\n",
              "      <td>t1</td>\n",
              "      <td>...</td>\n",
              "      <td>0.63</td>\n",
              "      <td>0.10</td>\n",
              "      <td>1.05</td>\n",
              "      <td>0.92</td>\n",
              "      <td>0.733</td>\n",
              "      <td>0.104</td>\n",
              "      <td>0.147018</td>\n",
              "      <td>0.528</td>\n",
              "      <td>False</td>\n",
              "      <td>0.666667</td>\n",
              "    </tr>\n",
              "  </tbody>\n",
              "</table>\n",
              "<p>5 rows × 170 columns</p>\n",
              "</div>"
            ],
            "text/plain": [
              "   match_date       team_1       team_2  t1_points  t2_points  t1_world_rank  \\\n",
              "0  2016-12-18       CLOUD9  HELLRAISERS         13         16              9   \n",
              "1  2016-12-18    IMMORTALS           G2         17         19             13   \n",
              "2  2016-12-18  MOUSESPORTS    IMMORTALS         16          3             12   \n",
              "3  2016-12-18     DIGNITAS           G2         16          9              6   \n",
              "4  2016-12-18        OPTIC  HELLRAISERS         16         10              4   \n",
              "\n",
              "   t2_world_rank  t1_h2h_win_perc  t2_h2h_win_perc winner  ...  \\\n",
              "0             20         0.500000         0.500000     t2  ...   \n",
              "1             10         0.500000         0.500000     t2  ...   \n",
              "2             13         0.500000         0.500000     t1  ...   \n",
              "3             10         0.416667         0.583333     t1  ...   \n",
              "4             20         0.500000         0.500000     t1  ...   \n",
              "\n",
              "   t2_player5_dpr  t2_player5_spr  t2_player5_opk_ratio  \\\n",
              "0            0.63            0.10                  1.05   \n",
              "1            0.69            0.09                  0.85   \n",
              "2            0.67            0.07                  0.79   \n",
              "3            0.69            0.09                  0.85   \n",
              "4            0.63            0.10                  1.05   \n",
              "\n",
              "   t2_player5_opk_rating  t2_player5_wins_perc_after_fk  \\\n",
              "0                   0.92                          0.733   \n",
              "1                   0.96                          0.739   \n",
              "2                   0.94                          0.723   \n",
              "3                   0.96                          0.739   \n",
              "4                   0.92                          0.733   \n",
              "\n",
              "   t2_player5_fk_perc_in_wins  t2_player5_multikill_perc  \\\n",
              "0                       0.104                   0.147018   \n",
              "1                       0.147                   0.135810   \n",
              "2                       0.129                   0.148257   \n",
              "3                       0.147                   0.135810   \n",
              "4                       0.104                   0.147018   \n",
              "\n",
              "   t2_player5_rating_at_least_one_perc  t2_player5_is_sniper  \\\n",
              "0                                0.528                 False   \n",
              "1                                0.438                  True   \n",
              "2                                0.526                 False   \n",
              "3                                0.438                  True   \n",
              "4                                0.528                 False   \n",
              "\n",
              "   t2_player5_clutch_win_perc  \n",
              "0                    0.666667  \n",
              "1                    0.406250  \n",
              "2                    0.733333  \n",
              "3                    0.406250  \n",
              "4                    0.666667  \n",
              "\n",
              "[5 rows x 170 columns]"
            ]
          },
          "execution_count": 312,
          "metadata": {},
          "output_type": "execute_result"
        }
      ],
      "source": [
        "df = pd.read_csv(\"./csgo_games.csv\")\n",
        "df.head()"
      ]
    },
    {
      "cell_type": "markdown",
      "metadata": {
        "id": "hjYKDUfiCitE"
      },
      "source": [
        "Remove irrelevant features\n"
      ]
    },
    {
      "cell_type": "code",
      "execution_count": 313,
      "metadata": {
        "colab": {
          "base_uri": "https://localhost:8080/",
          "height": 256
        },
        "id": "RXsRrbXE-6zE",
        "outputId": "93625435-02e5-4ef0-c6a1-fac3ebec5a4b"
      },
      "outputs": [
        {
          "data": {
            "text/html": [
              "<div>\n",
              "<style scoped>\n",
              "    .dataframe tbody tr th:only-of-type {\n",
              "        vertical-align: middle;\n",
              "    }\n",
              "\n",
              "    .dataframe tbody tr th {\n",
              "        vertical-align: top;\n",
              "    }\n",
              "\n",
              "    .dataframe thead th {\n",
              "        text-align: right;\n",
              "    }\n",
              "</style>\n",
              "<table border=\"1\" class=\"dataframe\">\n",
              "  <thead>\n",
              "    <tr style=\"text-align: right;\">\n",
              "      <th></th>\n",
              "      <th>t1_world_rank</th>\n",
              "      <th>t2_world_rank</th>\n",
              "      <th>t1_h2h_win_perc</th>\n",
              "      <th>t2_h2h_win_perc</th>\n",
              "      <th>winner</th>\n",
              "      <th>t1_player1_rating</th>\n",
              "      <th>t1_player1_impact</th>\n",
              "      <th>t1_player1_kdr</th>\n",
              "      <th>t1_player1_dmr</th>\n",
              "      <th>t1_player1_kpr</th>\n",
              "      <th>...</th>\n",
              "      <th>t2_player5_dpr</th>\n",
              "      <th>t2_player5_spr</th>\n",
              "      <th>t2_player5_opk_ratio</th>\n",
              "      <th>t2_player5_opk_rating</th>\n",
              "      <th>t2_player5_wins_perc_after_fk</th>\n",
              "      <th>t2_player5_fk_perc_in_wins</th>\n",
              "      <th>t2_player5_multikill_perc</th>\n",
              "      <th>t2_player5_rating_at_least_one_perc</th>\n",
              "      <th>t2_player5_is_sniper</th>\n",
              "      <th>t2_player5_clutch_win_perc</th>\n",
              "    </tr>\n",
              "  </thead>\n",
              "  <tbody>\n",
              "    <tr>\n",
              "      <th>0</th>\n",
              "      <td>9</td>\n",
              "      <td>20</td>\n",
              "      <td>0.500000</td>\n",
              "      <td>0.500000</td>\n",
              "      <td>t2</td>\n",
              "      <td>1.24</td>\n",
              "      <td>1.29</td>\n",
              "      <td>1.24</td>\n",
              "      <td>87.0</td>\n",
              "      <td>0.83</td>\n",
              "      <td>...</td>\n",
              "      <td>0.63</td>\n",
              "      <td>0.10</td>\n",
              "      <td>1.05</td>\n",
              "      <td>0.92</td>\n",
              "      <td>0.733</td>\n",
              "      <td>0.104</td>\n",
              "      <td>0.147018</td>\n",
              "      <td>0.528</td>\n",
              "      <td>False</td>\n",
              "      <td>0.666667</td>\n",
              "    </tr>\n",
              "    <tr>\n",
              "      <th>1</th>\n",
              "      <td>13</td>\n",
              "      <td>10</td>\n",
              "      <td>0.500000</td>\n",
              "      <td>0.500000</td>\n",
              "      <td>t2</td>\n",
              "      <td>1.21</td>\n",
              "      <td>1.24</td>\n",
              "      <td>1.35</td>\n",
              "      <td>78.7</td>\n",
              "      <td>0.78</td>\n",
              "      <td>...</td>\n",
              "      <td>0.69</td>\n",
              "      <td>0.09</td>\n",
              "      <td>0.85</td>\n",
              "      <td>0.96</td>\n",
              "      <td>0.739</td>\n",
              "      <td>0.147</td>\n",
              "      <td>0.135810</td>\n",
              "      <td>0.438</td>\n",
              "      <td>True</td>\n",
              "      <td>0.406250</td>\n",
              "    </tr>\n",
              "    <tr>\n",
              "      <th>2</th>\n",
              "      <td>12</td>\n",
              "      <td>13</td>\n",
              "      <td>0.500000</td>\n",
              "      <td>0.500000</td>\n",
              "      <td>t1</td>\n",
              "      <td>1.18</td>\n",
              "      <td>1.42</td>\n",
              "      <td>1.13</td>\n",
              "      <td>83.8</td>\n",
              "      <td>0.78</td>\n",
              "      <td>...</td>\n",
              "      <td>0.67</td>\n",
              "      <td>0.07</td>\n",
              "      <td>0.79</td>\n",
              "      <td>0.94</td>\n",
              "      <td>0.723</td>\n",
              "      <td>0.129</td>\n",
              "      <td>0.148257</td>\n",
              "      <td>0.526</td>\n",
              "      <td>False</td>\n",
              "      <td>0.733333</td>\n",
              "    </tr>\n",
              "    <tr>\n",
              "      <th>3</th>\n",
              "      <td>6</td>\n",
              "      <td>10</td>\n",
              "      <td>0.416667</td>\n",
              "      <td>0.583333</td>\n",
              "      <td>t1</td>\n",
              "      <td>1.19</td>\n",
              "      <td>1.17</td>\n",
              "      <td>1.24</td>\n",
              "      <td>84.1</td>\n",
              "      <td>0.77</td>\n",
              "      <td>...</td>\n",
              "      <td>0.69</td>\n",
              "      <td>0.09</td>\n",
              "      <td>0.85</td>\n",
              "      <td>0.96</td>\n",
              "      <td>0.739</td>\n",
              "      <td>0.147</td>\n",
              "      <td>0.135810</td>\n",
              "      <td>0.438</td>\n",
              "      <td>True</td>\n",
              "      <td>0.406250</td>\n",
              "    </tr>\n",
              "    <tr>\n",
              "      <th>4</th>\n",
              "      <td>4</td>\n",
              "      <td>20</td>\n",
              "      <td>0.500000</td>\n",
              "      <td>0.500000</td>\n",
              "      <td>t1</td>\n",
              "      <td>1.19</td>\n",
              "      <td>1.21</td>\n",
              "      <td>1.19</td>\n",
              "      <td>81.4</td>\n",
              "      <td>0.78</td>\n",
              "      <td>...</td>\n",
              "      <td>0.63</td>\n",
              "      <td>0.10</td>\n",
              "      <td>1.05</td>\n",
              "      <td>0.92</td>\n",
              "      <td>0.733</td>\n",
              "      <td>0.104</td>\n",
              "      <td>0.147018</td>\n",
              "      <td>0.528</td>\n",
              "      <td>False</td>\n",
              "      <td>0.666667</td>\n",
              "    </tr>\n",
              "  </tbody>\n",
              "</table>\n",
              "<p>5 rows × 165 columns</p>\n",
              "</div>"
            ],
            "text/plain": [
              "   t1_world_rank  t2_world_rank  t1_h2h_win_perc  t2_h2h_win_perc winner  \\\n",
              "0              9             20         0.500000         0.500000     t2   \n",
              "1             13             10         0.500000         0.500000     t2   \n",
              "2             12             13         0.500000         0.500000     t1   \n",
              "3              6             10         0.416667         0.583333     t1   \n",
              "4              4             20         0.500000         0.500000     t1   \n",
              "\n",
              "   t1_player1_rating  t1_player1_impact  t1_player1_kdr  t1_player1_dmr  \\\n",
              "0               1.24               1.29            1.24            87.0   \n",
              "1               1.21               1.24            1.35            78.7   \n",
              "2               1.18               1.42            1.13            83.8   \n",
              "3               1.19               1.17            1.24            84.1   \n",
              "4               1.19               1.21            1.19            81.4   \n",
              "\n",
              "   t1_player1_kpr  ...  t2_player5_dpr  t2_player5_spr  t2_player5_opk_ratio  \\\n",
              "0            0.83  ...            0.63            0.10                  1.05   \n",
              "1            0.78  ...            0.69            0.09                  0.85   \n",
              "2            0.78  ...            0.67            0.07                  0.79   \n",
              "3            0.77  ...            0.69            0.09                  0.85   \n",
              "4            0.78  ...            0.63            0.10                  1.05   \n",
              "\n",
              "   t2_player5_opk_rating  t2_player5_wins_perc_after_fk  \\\n",
              "0                   0.92                          0.733   \n",
              "1                   0.96                          0.739   \n",
              "2                   0.94                          0.723   \n",
              "3                   0.96                          0.739   \n",
              "4                   0.92                          0.733   \n",
              "\n",
              "   t2_player5_fk_perc_in_wins  t2_player5_multikill_perc  \\\n",
              "0                       0.104                   0.147018   \n",
              "1                       0.147                   0.135810   \n",
              "2                       0.129                   0.148257   \n",
              "3                       0.147                   0.135810   \n",
              "4                       0.104                   0.147018   \n",
              "\n",
              "   t2_player5_rating_at_least_one_perc  t2_player5_is_sniper  \\\n",
              "0                                0.528                 False   \n",
              "1                                0.438                  True   \n",
              "2                                0.526                 False   \n",
              "3                                0.438                  True   \n",
              "4                                0.528                 False   \n",
              "\n",
              "   t2_player5_clutch_win_perc  \n",
              "0                    0.666667  \n",
              "1                    0.406250  \n",
              "2                    0.733333  \n",
              "3                    0.406250  \n",
              "4                    0.666667  \n",
              "\n",
              "[5 rows x 165 columns]"
            ]
          },
          "execution_count": 313,
          "metadata": {},
          "output_type": "execute_result"
        }
      ],
      "source": [
        "df.drop(['match_date', 'team_1', 'team_2', 't1_points', 't2_points'], axis=1, inplace=True)\n",
        "df.head()"
      ]
    },
    {
      "cell_type": "markdown",
      "metadata": {
        "id": "eSXAzNGE_Tev"
      },
      "source": [
        "Get missing data cells"
      ]
    },
    {
      "cell_type": "code",
      "execution_count": 314,
      "metadata": {
        "colab": {
          "base_uri": "https://localhost:8080/",
          "height": 175
        },
        "id": "clKHoL9U_NuS",
        "outputId": "82c66dc8-daf2-419f-bb3c-04781c843ff0"
      },
      "outputs": [
        {
          "data": {
            "text/html": [
              "<div>\n",
              "<style scoped>\n",
              "    .dataframe tbody tr th:only-of-type {\n",
              "        vertical-align: middle;\n",
              "    }\n",
              "\n",
              "    .dataframe tbody tr th {\n",
              "        vertical-align: top;\n",
              "    }\n",
              "\n",
              "    .dataframe thead th {\n",
              "        text-align: right;\n",
              "    }\n",
              "</style>\n",
              "<table border=\"1\" class=\"dataframe\">\n",
              "  <thead>\n",
              "    <tr style=\"text-align: right;\">\n",
              "      <th></th>\n",
              "      <th>t1_player5_wins_perc_after_fk</th>\n",
              "      <th>t2_player3_wins_perc_after_fk</th>\n",
              "      <th>t2_player5_wins_perc_after_fk</th>\n",
              "    </tr>\n",
              "  </thead>\n",
              "  <tbody>\n",
              "    <tr>\n",
              "      <th>383</th>\n",
              "      <td>NaN</td>\n",
              "      <td>0.729</td>\n",
              "      <td>0.755</td>\n",
              "    </tr>\n",
              "    <tr>\n",
              "      <th>731</th>\n",
              "      <td>0.816</td>\n",
              "      <td>0.736</td>\n",
              "      <td>NaN</td>\n",
              "    </tr>\n",
              "    <tr>\n",
              "      <th>735</th>\n",
              "      <td>NaN</td>\n",
              "      <td>0.798</td>\n",
              "      <td>0.764</td>\n",
              "    </tr>\n",
              "    <tr>\n",
              "      <th>1994</th>\n",
              "      <td>0.753</td>\n",
              "      <td>NaN</td>\n",
              "      <td>0.693</td>\n",
              "    </tr>\n",
              "  </tbody>\n",
              "</table>\n",
              "</div>"
            ],
            "text/plain": [
              "      t1_player5_wins_perc_after_fk  t2_player3_wins_perc_after_fk  \\\n",
              "383                             NaN                          0.729   \n",
              "731                           0.816                          0.736   \n",
              "735                             NaN                          0.798   \n",
              "1994                          0.753                            NaN   \n",
              "\n",
              "      t2_player5_wins_perc_after_fk  \n",
              "383                           0.755  \n",
              "731                             NaN  \n",
              "735                           0.764  \n",
              "1994                          0.693  "
            ]
          },
          "execution_count": 314,
          "metadata": {},
          "output_type": "execute_result"
        }
      ],
      "source": [
        "# Identify columns with any empty values (NaN or empty strings) and filter the DataFrame\n",
        "df_filtered_columns = df.loc[:, df.isna().any(axis=0) | (df == '').any(axis=0)]\n",
        "\n",
        "# Find rows with any empty values in the filtered DataFrame\n",
        "rows_with_empty = df_filtered_columns[df_filtered_columns.isna().any(axis=1) | (df_filtered_columns == '').any(axis=1)]\n",
        "\n",
        "# Get indices of these rows and their count\n",
        "rows_with_empty_indices = rows_with_empty.index\n",
        "\n",
        "# Display the first few rows with empty values in the filtered columns\n",
        "rows_with_empty.head()\n"
      ]
    },
    {
      "cell_type": "code",
      "execution_count": 315,
      "metadata": {
        "id": "al6Hxufs_g40"
      },
      "outputs": [],
      "source": [
        "df.drop(rows_with_empty_indices, inplace=True)"
      ]
    },
    {
      "cell_type": "markdown",
      "metadata": {
        "id": "Pwn6FmLP__QV"
      },
      "source": [
        "Convert \"winner\" label to numeric value - 0 means a win for t1 and 1 means a win for t2"
      ]
    },
    {
      "cell_type": "code",
      "execution_count": 316,
      "metadata": {
        "colab": {
          "base_uri": "https://localhost:8080/"
        },
        "id": "gmiNuaL9AKBI",
        "outputId": "0feb2b6d-1948-4ff6-cdb7-a64fd28eeeda"
      },
      "outputs": [
        {
          "data": {
            "text/plain": [
              "0    1\n",
              "1    1\n",
              "2    0\n",
              "3    0\n",
              "4    0\n",
              "Name: winner, dtype: int64"
            ]
          },
          "execution_count": 316,
          "metadata": {},
          "output_type": "execute_result"
        }
      ],
      "source": [
        "df[\"winner\"] = (df[\"winner\"] == \"t2\").astype(int)\n",
        "df['winner'].head()"
      ]
    },
    {
      "cell_type": "markdown",
      "metadata": {
        "id": "Msrd5viGPGdG"
      },
      "source": [
        "Ranking"
      ]
    },
    {
      "cell_type": "code",
      "execution_count": 317,
      "metadata": {
        "colab": {
          "base_uri": "https://localhost:8080/",
          "height": 256
        },
        "id": "dyEL-wzhPJUN",
        "outputId": "49e66526-acdd-4fe6-8b26-07b6c3494169"
      },
      "outputs": [
        {
          "data": {
            "text/html": [
              "<div>\n",
              "<style scoped>\n",
              "    .dataframe tbody tr th:only-of-type {\n",
              "        vertical-align: middle;\n",
              "    }\n",
              "\n",
              "    .dataframe tbody tr th {\n",
              "        vertical-align: top;\n",
              "    }\n",
              "\n",
              "    .dataframe thead th {\n",
              "        text-align: right;\n",
              "    }\n",
              "</style>\n",
              "<table border=\"1\" class=\"dataframe\">\n",
              "  <thead>\n",
              "    <tr style=\"text-align: right;\">\n",
              "      <th></th>\n",
              "      <th>t1_world_rank</th>\n",
              "      <th>t2_world_rank</th>\n",
              "      <th>t1_h2h_win_perc</th>\n",
              "      <th>t2_h2h_win_perc</th>\n",
              "      <th>winner</th>\n",
              "      <th>t1_player1_rating</th>\n",
              "      <th>t1_player1_impact</th>\n",
              "      <th>t1_player1_kdr</th>\n",
              "      <th>t1_player1_dmr</th>\n",
              "      <th>t1_player1_kpr</th>\n",
              "      <th>...</th>\n",
              "      <th>t2_player5_spr</th>\n",
              "      <th>t2_player5_opk_ratio</th>\n",
              "      <th>t2_player5_opk_rating</th>\n",
              "      <th>t2_player5_wins_perc_after_fk</th>\n",
              "      <th>t2_player5_fk_perc_in_wins</th>\n",
              "      <th>t2_player5_multikill_perc</th>\n",
              "      <th>t2_player5_rating_at_least_one_perc</th>\n",
              "      <th>t2_player5_is_sniper</th>\n",
              "      <th>t2_player5_clutch_win_perc</th>\n",
              "      <th>rank_difference</th>\n",
              "    </tr>\n",
              "  </thead>\n",
              "  <tbody>\n",
              "    <tr>\n",
              "      <th>0</th>\n",
              "      <td>9</td>\n",
              "      <td>20</td>\n",
              "      <td>0.500000</td>\n",
              "      <td>0.500000</td>\n",
              "      <td>1</td>\n",
              "      <td>1.24</td>\n",
              "      <td>1.29</td>\n",
              "      <td>1.24</td>\n",
              "      <td>87.0</td>\n",
              "      <td>0.83</td>\n",
              "      <td>...</td>\n",
              "      <td>0.10</td>\n",
              "      <td>1.05</td>\n",
              "      <td>0.92</td>\n",
              "      <td>0.733</td>\n",
              "      <td>0.104</td>\n",
              "      <td>0.147018</td>\n",
              "      <td>0.528</td>\n",
              "      <td>False</td>\n",
              "      <td>0.666667</td>\n",
              "      <td>-11</td>\n",
              "    </tr>\n",
              "    <tr>\n",
              "      <th>1</th>\n",
              "      <td>13</td>\n",
              "      <td>10</td>\n",
              "      <td>0.500000</td>\n",
              "      <td>0.500000</td>\n",
              "      <td>1</td>\n",
              "      <td>1.21</td>\n",
              "      <td>1.24</td>\n",
              "      <td>1.35</td>\n",
              "      <td>78.7</td>\n",
              "      <td>0.78</td>\n",
              "      <td>...</td>\n",
              "      <td>0.09</td>\n",
              "      <td>0.85</td>\n",
              "      <td>0.96</td>\n",
              "      <td>0.739</td>\n",
              "      <td>0.147</td>\n",
              "      <td>0.135810</td>\n",
              "      <td>0.438</td>\n",
              "      <td>True</td>\n",
              "      <td>0.406250</td>\n",
              "      <td>3</td>\n",
              "    </tr>\n",
              "    <tr>\n",
              "      <th>2</th>\n",
              "      <td>12</td>\n",
              "      <td>13</td>\n",
              "      <td>0.500000</td>\n",
              "      <td>0.500000</td>\n",
              "      <td>0</td>\n",
              "      <td>1.18</td>\n",
              "      <td>1.42</td>\n",
              "      <td>1.13</td>\n",
              "      <td>83.8</td>\n",
              "      <td>0.78</td>\n",
              "      <td>...</td>\n",
              "      <td>0.07</td>\n",
              "      <td>0.79</td>\n",
              "      <td>0.94</td>\n",
              "      <td>0.723</td>\n",
              "      <td>0.129</td>\n",
              "      <td>0.148257</td>\n",
              "      <td>0.526</td>\n",
              "      <td>False</td>\n",
              "      <td>0.733333</td>\n",
              "      <td>-1</td>\n",
              "    </tr>\n",
              "    <tr>\n",
              "      <th>3</th>\n",
              "      <td>6</td>\n",
              "      <td>10</td>\n",
              "      <td>0.416667</td>\n",
              "      <td>0.583333</td>\n",
              "      <td>0</td>\n",
              "      <td>1.19</td>\n",
              "      <td>1.17</td>\n",
              "      <td>1.24</td>\n",
              "      <td>84.1</td>\n",
              "      <td>0.77</td>\n",
              "      <td>...</td>\n",
              "      <td>0.09</td>\n",
              "      <td>0.85</td>\n",
              "      <td>0.96</td>\n",
              "      <td>0.739</td>\n",
              "      <td>0.147</td>\n",
              "      <td>0.135810</td>\n",
              "      <td>0.438</td>\n",
              "      <td>True</td>\n",
              "      <td>0.406250</td>\n",
              "      <td>-4</td>\n",
              "    </tr>\n",
              "    <tr>\n",
              "      <th>4</th>\n",
              "      <td>4</td>\n",
              "      <td>20</td>\n",
              "      <td>0.500000</td>\n",
              "      <td>0.500000</td>\n",
              "      <td>0</td>\n",
              "      <td>1.19</td>\n",
              "      <td>1.21</td>\n",
              "      <td>1.19</td>\n",
              "      <td>81.4</td>\n",
              "      <td>0.78</td>\n",
              "      <td>...</td>\n",
              "      <td>0.10</td>\n",
              "      <td>1.05</td>\n",
              "      <td>0.92</td>\n",
              "      <td>0.733</td>\n",
              "      <td>0.104</td>\n",
              "      <td>0.147018</td>\n",
              "      <td>0.528</td>\n",
              "      <td>False</td>\n",
              "      <td>0.666667</td>\n",
              "      <td>-16</td>\n",
              "    </tr>\n",
              "  </tbody>\n",
              "</table>\n",
              "<p>5 rows × 166 columns</p>\n",
              "</div>"
            ],
            "text/plain": [
              "   t1_world_rank  t2_world_rank  t1_h2h_win_perc  t2_h2h_win_perc  winner  \\\n",
              "0              9             20         0.500000         0.500000       1   \n",
              "1             13             10         0.500000         0.500000       1   \n",
              "2             12             13         0.500000         0.500000       0   \n",
              "3              6             10         0.416667         0.583333       0   \n",
              "4              4             20         0.500000         0.500000       0   \n",
              "\n",
              "   t1_player1_rating  t1_player1_impact  t1_player1_kdr  t1_player1_dmr  \\\n",
              "0               1.24               1.29            1.24            87.0   \n",
              "1               1.21               1.24            1.35            78.7   \n",
              "2               1.18               1.42            1.13            83.8   \n",
              "3               1.19               1.17            1.24            84.1   \n",
              "4               1.19               1.21            1.19            81.4   \n",
              "\n",
              "   t1_player1_kpr  ...  t2_player5_spr  t2_player5_opk_ratio  \\\n",
              "0            0.83  ...            0.10                  1.05   \n",
              "1            0.78  ...            0.09                  0.85   \n",
              "2            0.78  ...            0.07                  0.79   \n",
              "3            0.77  ...            0.09                  0.85   \n",
              "4            0.78  ...            0.10                  1.05   \n",
              "\n",
              "   t2_player5_opk_rating  t2_player5_wins_perc_after_fk  \\\n",
              "0                   0.92                          0.733   \n",
              "1                   0.96                          0.739   \n",
              "2                   0.94                          0.723   \n",
              "3                   0.96                          0.739   \n",
              "4                   0.92                          0.733   \n",
              "\n",
              "   t2_player5_fk_perc_in_wins  t2_player5_multikill_perc  \\\n",
              "0                       0.104                   0.147018   \n",
              "1                       0.147                   0.135810   \n",
              "2                       0.129                   0.148257   \n",
              "3                       0.147                   0.135810   \n",
              "4                       0.104                   0.147018   \n",
              "\n",
              "   t2_player5_rating_at_least_one_perc  t2_player5_is_sniper  \\\n",
              "0                                0.528                 False   \n",
              "1                                0.438                  True   \n",
              "2                                0.526                 False   \n",
              "3                                0.438                  True   \n",
              "4                                0.528                 False   \n",
              "\n",
              "   t2_player5_clutch_win_perc  rank_difference  \n",
              "0                    0.666667              -11  \n",
              "1                    0.406250                3  \n",
              "2                    0.733333               -1  \n",
              "3                    0.406250               -4  \n",
              "4                    0.666667              -16  \n",
              "\n",
              "[5 rows x 166 columns]"
            ]
          },
          "execution_count": 317,
          "metadata": {},
          "output_type": "execute_result"
        }
      ],
      "source": [
        "df['rank_difference'] = df['t1_world_rank'].astype(int) - df['t2_world_rank'].astype(int)\n",
        "df.head()"
      ]
    },
    {
      "cell_type": "markdown",
      "metadata": {
        "id": "s1S4SKV4ARo4"
      },
      "source": [
        "Aggregate the number of snippers in each team"
      ]
    },
    {
      "cell_type": "code",
      "execution_count": 318,
      "metadata": {
        "colab": {
          "base_uri": "https://localhost:8080/",
          "height": 206
        },
        "id": "6Qv1qWGdAaeh",
        "outputId": "06989527-fc2a-434d-8f84-8e30c0556234"
      },
      "outputs": [
        {
          "data": {
            "text/html": [
              "<div>\n",
              "<style scoped>\n",
              "    .dataframe tbody tr th:only-of-type {\n",
              "        vertical-align: middle;\n",
              "    }\n",
              "\n",
              "    .dataframe tbody tr th {\n",
              "        vertical-align: top;\n",
              "    }\n",
              "\n",
              "    .dataframe thead th {\n",
              "        text-align: right;\n",
              "    }\n",
              "</style>\n",
              "<table border=\"1\" class=\"dataframe\">\n",
              "  <thead>\n",
              "    <tr style=\"text-align: right;\">\n",
              "      <th></th>\n",
              "      <th>t1_player1_is_sniper</th>\n",
              "      <th>t1_snipers</th>\n",
              "      <th>t2_snipers</th>\n",
              "      <th>snipper_difference</th>\n",
              "    </tr>\n",
              "  </thead>\n",
              "  <tbody>\n",
              "    <tr>\n",
              "      <th>0</th>\n",
              "      <td>0</td>\n",
              "      <td>1</td>\n",
              "      <td>1</td>\n",
              "      <td>0</td>\n",
              "    </tr>\n",
              "    <tr>\n",
              "      <th>1</th>\n",
              "      <td>1</td>\n",
              "      <td>1</td>\n",
              "      <td>2</td>\n",
              "      <td>-1</td>\n",
              "    </tr>\n",
              "    <tr>\n",
              "      <th>2</th>\n",
              "      <td>0</td>\n",
              "      <td>1</td>\n",
              "      <td>1</td>\n",
              "      <td>0</td>\n",
              "    </tr>\n",
              "    <tr>\n",
              "      <th>3</th>\n",
              "      <td>0</td>\n",
              "      <td>1</td>\n",
              "      <td>2</td>\n",
              "      <td>-1</td>\n",
              "    </tr>\n",
              "    <tr>\n",
              "      <th>4</th>\n",
              "      <td>1</td>\n",
              "      <td>2</td>\n",
              "      <td>1</td>\n",
              "      <td>1</td>\n",
              "    </tr>\n",
              "  </tbody>\n",
              "</table>\n",
              "</div>"
            ],
            "text/plain": [
              "   t1_player1_is_sniper  t1_snipers  t2_snipers  snipper_difference\n",
              "0                     0           1           1                   0\n",
              "1                     1           1           2                  -1\n",
              "2                     0           1           1                   0\n",
              "3                     0           1           2                  -1\n",
              "4                     1           2           1                   1"
            ]
          },
          "execution_count": 318,
          "metadata": {},
          "output_type": "execute_result"
        }
      ],
      "source": [
        "df[[f't1_player{i}_is_sniper' for i in range(1, 6)]] = df[[f't1_player{i}_is_sniper' for i in range(1, 6)]].astype(int)\n",
        "df[[f't2_player{i}_is_sniper' for i in range(1, 6)]] = df[[f't2_player{i}_is_sniper' for i in range(1, 6)]].astype(int)\n",
        "\n",
        "df['t1_snipers'] = df[[f't1_player{i}_is_sniper' for i in range(1, 6)]].sum(axis=1)\n",
        "df['t2_snipers'] = df[[f't2_player{i}_is_sniper' for i in range(1, 6)]].sum(axis=1)\n",
        "df['snipper_difference']=df['t1_snipers'] - df['t2_snipers']\n",
        "\n",
        "df['t1_player1_is_sniper'] = df['t1_player1_is_sniper'].astype(int)\n",
        "df['t1_player2_is_sniper'] = df['t1_player2_is_sniper'].astype(int)\n",
        "df['t1_player3_is_sniper'] = df['t1_player3_is_sniper'].astype(int)\n",
        "df['t1_player4_is_sniper'] = df['t1_player4_is_sniper'].astype(int)\n",
        "df['t1_player5_is_sniper'] = df['t1_player5_is_sniper'].astype(int)\n",
        "df['t2_player1_is_sniper'] = df['t2_player1_is_sniper'].astype(int)\n",
        "df['t2_player2_is_sniper'] = df['t2_player2_is_sniper'].astype(int)\n",
        "df['t2_player3_is_sniper'] = df['t2_player3_is_sniper'].astype(int)\n",
        "df['t2_player4_is_sniper'] = df['t2_player4_is_sniper'].astype(int)\n",
        "df['t2_player5_is_sniper'] = df['t2_player5_is_sniper'].astype(int)\n",
        "\n",
        "df[['t1_player1_is_sniper','t1_snipers','t2_snipers', 'snipper_difference']].head()"
      ]
    },
    {
      "cell_type": "markdown",
      "metadata": {
        "id": "Wp9C7ubUAhGf"
      },
      "source": [
        "Aggregate rating"
      ]
    },
    {
      "cell_type": "code",
      "execution_count": 319,
      "metadata": {
        "colab": {
          "base_uri": "https://localhost:8080/",
          "height": 206
        },
        "id": "6gDY4yo1Aw31",
        "outputId": "8b6f4258-0a9c-4541-ef48-b946b8675e75"
      },
      "outputs": [
        {
          "data": {
            "text/html": [
              "<div>\n",
              "<style scoped>\n",
              "    .dataframe tbody tr th:only-of-type {\n",
              "        vertical-align: middle;\n",
              "    }\n",
              "\n",
              "    .dataframe tbody tr th {\n",
              "        vertical-align: top;\n",
              "    }\n",
              "\n",
              "    .dataframe thead th {\n",
              "        text-align: right;\n",
              "    }\n",
              "</style>\n",
              "<table border=\"1\" class=\"dataframe\">\n",
              "  <thead>\n",
              "    <tr style=\"text-align: right;\">\n",
              "      <th></th>\n",
              "      <th>player_rating_avg_diff</th>\n",
              "      <th>player_rating_max_diff</th>\n",
              "      <th>player_rating_min_diff</th>\n",
              "      <th>winner</th>\n",
              "    </tr>\n",
              "  </thead>\n",
              "  <tbody>\n",
              "    <tr>\n",
              "      <th>0</th>\n",
              "      <td>0.044</td>\n",
              "      <td>0.04</td>\n",
              "      <td>0.03</td>\n",
              "      <td>1</td>\n",
              "    </tr>\n",
              "    <tr>\n",
              "      <th>1</th>\n",
              "      <td>0.102</td>\n",
              "      <td>0.06</td>\n",
              "      <td>0.09</td>\n",
              "      <td>1</td>\n",
              "    </tr>\n",
              "    <tr>\n",
              "      <th>2</th>\n",
              "      <td>-0.074</td>\n",
              "      <td>-0.03</td>\n",
              "      <td>-0.08</td>\n",
              "      <td>0</td>\n",
              "    </tr>\n",
              "    <tr>\n",
              "      <th>3</th>\n",
              "      <td>0.060</td>\n",
              "      <td>0.04</td>\n",
              "      <td>0.01</td>\n",
              "      <td>0</td>\n",
              "    </tr>\n",
              "    <tr>\n",
              "      <th>4</th>\n",
              "      <td>0.052</td>\n",
              "      <td>-0.01</td>\n",
              "      <td>0.07</td>\n",
              "      <td>0</td>\n",
              "    </tr>\n",
              "  </tbody>\n",
              "</table>\n",
              "</div>"
            ],
            "text/plain": [
              "   player_rating_avg_diff  player_rating_max_diff  player_rating_min_diff  \\\n",
              "0                   0.044                    0.04                    0.03   \n",
              "1                   0.102                    0.06                    0.09   \n",
              "2                  -0.074                   -0.03                   -0.08   \n",
              "3                   0.060                    0.04                    0.01   \n",
              "4                   0.052                   -0.01                    0.07   \n",
              "\n",
              "   winner  \n",
              "0       1  \n",
              "1       1  \n",
              "2       0  \n",
              "3       0  \n",
              "4       0  "
            ]
          },
          "execution_count": 319,
          "metadata": {},
          "output_type": "execute_result"
        }
      ],
      "source": [
        "df['t1_player_rating_avg'] = df[[f't1_player{i}_rating' for i in range(1, 6)]].mean(axis=1)\n",
        "df['t2_player_rating_avg'] = df[[f't2_player{i}_rating' for i in range(1, 6)]].mean(axis=1)\n",
        "\n",
        "df['t1_player_rating_max'] = df[[f't1_player{i}_rating' for i in range(1, 6)]].max(axis=1)\n",
        "df['t2_player_rating_max'] = df[[f't2_player{i}_rating' for i in range(1, 6)]].max(axis=1)\n",
        "\n",
        "df['t1_player_rating_min'] = df[[f't1_player{i}_rating' for i in range(1, 6)]].min(axis=1)\n",
        "df['t2_player_rating_min'] = df[[f't2_player{i}_rating' for i in range(1, 6)]].min(axis=1)\n",
        "\n",
        "df['player_rating_avg_diff'] = df['t1_player_rating_avg'] - df['t2_player_rating_avg']\n",
        "df['player_rating_max_diff'] = df['t1_player_rating_max'] - df['t2_player_rating_max']\n",
        "df['player_rating_min_diff'] = df['t1_player_rating_min'] - df['t2_player_rating_min']\n",
        "\n",
        "df[['player_rating_avg_diff','player_rating_max_diff', 'player_rating_min_diff', 'winner']].head()"
      ]
    },
    {
      "cell_type": "markdown",
      "metadata": {
        "id": "ECdAQYVlv_PB"
      },
      "source": [
        "Aggregate player impact"
      ]
    },
    {
      "cell_type": "code",
      "execution_count": 320,
      "metadata": {
        "colab": {
          "base_uri": "https://localhost:8080/",
          "height": 206
        },
        "id": "T2he9kOTubCR",
        "outputId": "2b8999c2-93f7-4f66-8adb-42f59a671a13"
      },
      "outputs": [
        {
          "data": {
            "text/html": [
              "<div>\n",
              "<style scoped>\n",
              "    .dataframe tbody tr th:only-of-type {\n",
              "        vertical-align: middle;\n",
              "    }\n",
              "\n",
              "    .dataframe tbody tr th {\n",
              "        vertical-align: top;\n",
              "    }\n",
              "\n",
              "    .dataframe thead th {\n",
              "        text-align: right;\n",
              "    }\n",
              "</style>\n",
              "<table border=\"1\" class=\"dataframe\">\n",
              "  <thead>\n",
              "    <tr style=\"text-align: right;\">\n",
              "      <th></th>\n",
              "      <th>player_impact_avg_diff</th>\n",
              "      <th>player_impact_max_diff</th>\n",
              "      <th>player_impact_min_diff</th>\n",
              "      <th>winner</th>\n",
              "    </tr>\n",
              "  </thead>\n",
              "  <tbody>\n",
              "    <tr>\n",
              "      <th>0</th>\n",
              "      <td>0.044</td>\n",
              "      <td>-0.11</td>\n",
              "      <td>0.12</td>\n",
              "      <td>1</td>\n",
              "    </tr>\n",
              "    <tr>\n",
              "      <th>1</th>\n",
              "      <td>0.112</td>\n",
              "      <td>0.10</td>\n",
              "      <td>0.12</td>\n",
              "      <td>1</td>\n",
              "    </tr>\n",
              "    <tr>\n",
              "      <th>2</th>\n",
              "      <td>-0.066</td>\n",
              "      <td>0.07</td>\n",
              "      <td>-0.18</td>\n",
              "      <td>0</td>\n",
              "    </tr>\n",
              "    <tr>\n",
              "      <th>3</th>\n",
              "      <td>0.064</td>\n",
              "      <td>0.01</td>\n",
              "      <td>0.03</td>\n",
              "      <td>0</td>\n",
              "    </tr>\n",
              "    <tr>\n",
              "      <th>4</th>\n",
              "      <td>0.052</td>\n",
              "      <td>-0.19</td>\n",
              "      <td>0.18</td>\n",
              "      <td>0</td>\n",
              "    </tr>\n",
              "  </tbody>\n",
              "</table>\n",
              "</div>"
            ],
            "text/plain": [
              "   player_impact_avg_diff  player_impact_max_diff  player_impact_min_diff  \\\n",
              "0                   0.044                   -0.11                    0.12   \n",
              "1                   0.112                    0.10                    0.12   \n",
              "2                  -0.066                    0.07                   -0.18   \n",
              "3                   0.064                    0.01                    0.03   \n",
              "4                   0.052                   -0.19                    0.18   \n",
              "\n",
              "   winner  \n",
              "0       1  \n",
              "1       1  \n",
              "2       0  \n",
              "3       0  \n",
              "4       0  "
            ]
          },
          "execution_count": 320,
          "metadata": {},
          "output_type": "execute_result"
        }
      ],
      "source": [
        "df['t1_player_impact_avg'] = df[[f't1_player{i}_impact' for i in range(1, 6)]].mean(axis=1)\n",
        "df['t2_player_impact_avg'] = df[[f't2_player{i}_impact' for i in range(1, 6)]].mean(axis=1)\n",
        "\n",
        "df['t1_player_impact_max'] = df[[f't1_player{i}_impact' for i in range(1, 6)]].max(axis=1)\n",
        "df['t2_player_impact_max'] = df[[f't2_player{i}_impact' for i in range(1, 6)]].max(axis=1)\n",
        "\n",
        "df['t1_player_impact_min'] = df[[f't1_player{i}_impact' for i in range(1, 6)]].min(axis=1)\n",
        "df['t2_player_impact_min'] = df[[f't2_player{i}_impact' for i in range(1, 6)]].min(axis=1)\n",
        "\n",
        "df['player_impact_avg_diff'] = df['t1_player_impact_avg'] - df['t2_player_impact_avg']\n",
        "df['player_impact_max_diff'] = df['t1_player_impact_max'] - df['t2_player_impact_max']\n",
        "df['player_impact_min_diff'] = df['t1_player_impact_min'] - df['t2_player_impact_min']\n",
        "\n",
        "df[['player_impact_avg_diff','player_impact_max_diff','player_impact_min_diff', 'winner']].head()\n"
      ]
    },
    {
      "cell_type": "markdown",
      "metadata": {
        "id": "AnSyDu10CpIt"
      },
      "source": [
        "Aggregate player kdr"
      ]
    },
    {
      "cell_type": "code",
      "execution_count": 321,
      "metadata": {
        "colab": {
          "base_uri": "https://localhost:8080/",
          "height": 206
        },
        "id": "w7eRsC_3wGem",
        "outputId": "42542a50-d0cd-4ef9-ecaa-07a435731ca0"
      },
      "outputs": [
        {
          "data": {
            "text/html": [
              "<div>\n",
              "<style scoped>\n",
              "    .dataframe tbody tr th:only-of-type {\n",
              "        vertical-align: middle;\n",
              "    }\n",
              "\n",
              "    .dataframe tbody tr th {\n",
              "        vertical-align: top;\n",
              "    }\n",
              "\n",
              "    .dataframe thead th {\n",
              "        text-align: right;\n",
              "    }\n",
              "</style>\n",
              "<table border=\"1\" class=\"dataframe\">\n",
              "  <thead>\n",
              "    <tr style=\"text-align: right;\">\n",
              "      <th></th>\n",
              "      <th>player_kdr_avg_diff</th>\n",
              "      <th>player_kdr_max_diff</th>\n",
              "      <th>player_kdr_min_diff</th>\n",
              "      <th>winner</th>\n",
              "    </tr>\n",
              "  </thead>\n",
              "  <tbody>\n",
              "    <tr>\n",
              "      <th>0</th>\n",
              "      <td>0.056</td>\n",
              "      <td>0.13</td>\n",
              "      <td>-0.02</td>\n",
              "      <td>1</td>\n",
              "    </tr>\n",
              "    <tr>\n",
              "      <th>1</th>\n",
              "      <td>0.152</td>\n",
              "      <td>0.23</td>\n",
              "      <td>0.09</td>\n",
              "      <td>1</td>\n",
              "    </tr>\n",
              "    <tr>\n",
              "      <th>2</th>\n",
              "      <td>-0.116</td>\n",
              "      <td>-0.22</td>\n",
              "      <td>-0.10</td>\n",
              "      <td>0</td>\n",
              "    </tr>\n",
              "    <tr>\n",
              "      <th>3</th>\n",
              "      <td>0.090</td>\n",
              "      <td>0.12</td>\n",
              "      <td>-0.02</td>\n",
              "      <td>0</td>\n",
              "    </tr>\n",
              "    <tr>\n",
              "      <th>4</th>\n",
              "      <td>0.052</td>\n",
              "      <td>0.08</td>\n",
              "      <td>0.05</td>\n",
              "      <td>0</td>\n",
              "    </tr>\n",
              "  </tbody>\n",
              "</table>\n",
              "</div>"
            ],
            "text/plain": [
              "   player_kdr_avg_diff  player_kdr_max_diff  player_kdr_min_diff  winner\n",
              "0                0.056                 0.13                -0.02       1\n",
              "1                0.152                 0.23                 0.09       1\n",
              "2               -0.116                -0.22                -0.10       0\n",
              "3                0.090                 0.12                -0.02       0\n",
              "4                0.052                 0.08                 0.05       0"
            ]
          },
          "execution_count": 321,
          "metadata": {},
          "output_type": "execute_result"
        }
      ],
      "source": [
        "# prompt: aggregate player kdr of each team in the same way as how we deal with the player rating\n",
        "\n",
        "df['t1_player_kdr_avg'] = df[[f't1_player{i}_kdr' for i in range(1, 6)]].mean(axis=1)\n",
        "df['t2_player_kdr_avg'] = df[[f't2_player{i}_kdr' for i in range(1, 6)]].mean(axis=1)\n",
        "\n",
        "df['t1_player_kdr_max'] = df[[f't1_player{i}_kdr' for i in range(1, 6)]].max(axis=1)\n",
        "df['t2_player_kdr_max'] = df[[f't2_player{i}_kdr' for i in range(1, 6)]].max(axis=1)\n",
        "\n",
        "df['t1_player_kdr_min'] = df[[f't1_player{i}_kdr' for i in range(1, 6)]].min(axis=1)\n",
        "df['t2_player_kdr_min'] = df[[f't2_player{i}_kdr' for i in range(1, 6)]].min(axis=1)\n",
        "\n",
        "df['player_kdr_avg_diff'] = df['t1_player_kdr_avg'] - df['t2_player_kdr_avg']\n",
        "df['player_kdr_max_diff'] = df['t1_player_kdr_max'] - df['t2_player_kdr_max']\n",
        "df['player_kdr_min_diff'] = df['t1_player_kdr_min'] - df['t2_player_kdr_min']\n",
        "\n",
        "df[['player_kdr_avg_diff','player_kdr_max_diff','player_kdr_min_diff', 'winner']].head()\n"
      ]
    },
    {
      "cell_type": "markdown",
      "metadata": {
        "id": "CSizJRFAC41J"
      },
      "source": [
        "Aggregate player dmr"
      ]
    },
    {
      "cell_type": "code",
      "execution_count": 322,
      "metadata": {
        "colab": {
          "base_uri": "https://localhost:8080/",
          "height": 206
        },
        "id": "RbAp70UMwRW_",
        "outputId": "b15dd6c2-76d3-481d-b3dd-5ed8346e0116"
      },
      "outputs": [
        {
          "data": {
            "text/html": [
              "<div>\n",
              "<style scoped>\n",
              "    .dataframe tbody tr th:only-of-type {\n",
              "        vertical-align: middle;\n",
              "    }\n",
              "\n",
              "    .dataframe tbody tr th {\n",
              "        vertical-align: top;\n",
              "    }\n",
              "\n",
              "    .dataframe thead th {\n",
              "        text-align: right;\n",
              "    }\n",
              "</style>\n",
              "<table border=\"1\" class=\"dataframe\">\n",
              "  <thead>\n",
              "    <tr style=\"text-align: right;\">\n",
              "      <th></th>\n",
              "      <th>player_dmr_avg_diff</th>\n",
              "      <th>player_dmr_max_diff</th>\n",
              "      <th>player_dmr_min_diff</th>\n",
              "      <th>winner</th>\n",
              "    </tr>\n",
              "  </thead>\n",
              "  <tbody>\n",
              "    <tr>\n",
              "      <th>0</th>\n",
              "      <td>1.08</td>\n",
              "      <td>-3.1</td>\n",
              "      <td>-1.1</td>\n",
              "      <td>1</td>\n",
              "    </tr>\n",
              "    <tr>\n",
              "      <th>1</th>\n",
              "      <td>4.90</td>\n",
              "      <td>5.0</td>\n",
              "      <td>6.8</td>\n",
              "      <td>1</td>\n",
              "    </tr>\n",
              "    <tr>\n",
              "      <th>2</th>\n",
              "      <td>-4.38</td>\n",
              "      <td>-5.5</td>\n",
              "      <td>-3.7</td>\n",
              "      <td>0</td>\n",
              "    </tr>\n",
              "    <tr>\n",
              "      <th>3</th>\n",
              "      <td>2.02</td>\n",
              "      <td>1.2</td>\n",
              "      <td>3.3</td>\n",
              "      <td>0</td>\n",
              "    </tr>\n",
              "    <tr>\n",
              "      <th>4</th>\n",
              "      <td>1.80</td>\n",
              "      <td>-8.7</td>\n",
              "      <td>6.9</td>\n",
              "      <td>0</td>\n",
              "    </tr>\n",
              "  </tbody>\n",
              "</table>\n",
              "</div>"
            ],
            "text/plain": [
              "   player_dmr_avg_diff  player_dmr_max_diff  player_dmr_min_diff  winner\n",
              "0                 1.08                 -3.1                 -1.1       1\n",
              "1                 4.90                  5.0                  6.8       1\n",
              "2                -4.38                 -5.5                 -3.7       0\n",
              "3                 2.02                  1.2                  3.3       0\n",
              "4                 1.80                 -8.7                  6.9       0"
            ]
          },
          "execution_count": 322,
          "metadata": {},
          "output_type": "execute_result"
        }
      ],
      "source": [
        "df['t1_player_dmr_avg'] = df[[f't1_player{i}_dmr' for i in range(1, 6)]].mean(axis=1)\n",
        "df['t2_player_dmr_avg'] = df[[f't2_player{i}_dmr' for i in range(1, 6)]].mean(axis=1)\n",
        "\n",
        "df['t1_player_dmr_max'] = df[[f't1_player{i}_dmr' for i in range(1, 6)]].max(axis=1)\n",
        "df['t2_player_dmr_max'] = df[[f't2_player{i}_dmr' for i in range(1, 6)]].max(axis=1)\n",
        "\n",
        "df['t1_player_dmr_min'] = df[[f't1_player{i}_dmr' for i in range(1, 6)]].min(axis=1)\n",
        "df['t2_player_dmr_min'] = df[[f't2_player{i}_dmr' for i in range(1, 6)]].min(axis=1)\n",
        "\n",
        "df['player_dmr_avg_diff'] = df['t1_player_dmr_avg'] - df['t2_player_dmr_avg']\n",
        "df['player_dmr_max_diff'] = df['t1_player_dmr_max'] - df['t2_player_dmr_max']\n",
        "df['player_dmr_min_diff'] = df['t1_player_dmr_min'] - df['t2_player_dmr_min']\n",
        "\n",
        "df[['player_dmr_avg_diff','player_dmr_max_diff','player_dmr_min_diff', 'winner']].head()\n"
      ]
    },
    {
      "cell_type": "markdown",
      "metadata": {
        "id": "MdGiHlxXDPBf"
      },
      "source": [
        "Aggregate player kpr"
      ]
    },
    {
      "cell_type": "code",
      "execution_count": 323,
      "metadata": {
        "colab": {
          "base_uri": "https://localhost:8080/",
          "height": 206
        },
        "id": "vz6w58DHwqws",
        "outputId": "d43edf1a-016d-44ea-88f9-6672615190f3"
      },
      "outputs": [
        {
          "data": {
            "text/html": [
              "<div>\n",
              "<style scoped>\n",
              "    .dataframe tbody tr th:only-of-type {\n",
              "        vertical-align: middle;\n",
              "    }\n",
              "\n",
              "    .dataframe tbody tr th {\n",
              "        vertical-align: top;\n",
              "    }\n",
              "\n",
              "    .dataframe thead th {\n",
              "        text-align: right;\n",
              "    }\n",
              "</style>\n",
              "<table border=\"1\" class=\"dataframe\">\n",
              "  <thead>\n",
              "    <tr style=\"text-align: right;\">\n",
              "      <th></th>\n",
              "      <th>player_kpr_avg_diff</th>\n",
              "      <th>player_kpr_max_diff</th>\n",
              "      <th>player_kpr_min_diff</th>\n",
              "      <th>winner</th>\n",
              "    </tr>\n",
              "  </thead>\n",
              "  <tbody>\n",
              "    <tr>\n",
              "      <th>0</th>\n",
              "      <td>0.018</td>\n",
              "      <td>0.04</td>\n",
              "      <td>0.02</td>\n",
              "      <td>1</td>\n",
              "    </tr>\n",
              "    <tr>\n",
              "      <th>1</th>\n",
              "      <td>0.042</td>\n",
              "      <td>0.02</td>\n",
              "      <td>0.05</td>\n",
              "      <td>1</td>\n",
              "    </tr>\n",
              "    <tr>\n",
              "      <th>2</th>\n",
              "      <td>-0.040</td>\n",
              "      <td>-0.03</td>\n",
              "      <td>-0.04</td>\n",
              "      <td>0</td>\n",
              "    </tr>\n",
              "    <tr>\n",
              "      <th>3</th>\n",
              "      <td>0.018</td>\n",
              "      <td>-0.01</td>\n",
              "      <td>0.01</td>\n",
              "      <td>0</td>\n",
              "    </tr>\n",
              "    <tr>\n",
              "      <th>4</th>\n",
              "      <td>0.020</td>\n",
              "      <td>-0.01</td>\n",
              "      <td>0.05</td>\n",
              "      <td>0</td>\n",
              "    </tr>\n",
              "  </tbody>\n",
              "</table>\n",
              "</div>"
            ],
            "text/plain": [
              "   player_kpr_avg_diff  player_kpr_max_diff  player_kpr_min_diff  winner\n",
              "0                0.018                 0.04                 0.02       1\n",
              "1                0.042                 0.02                 0.05       1\n",
              "2               -0.040                -0.03                -0.04       0\n",
              "3                0.018                -0.01                 0.01       0\n",
              "4                0.020                -0.01                 0.05       0"
            ]
          },
          "execution_count": 323,
          "metadata": {},
          "output_type": "execute_result"
        }
      ],
      "source": [
        "df['t1_player_kpr_avg'] = df[[f't1_player{i}_kpr' for i in range(1, 6)]].mean(axis=1)\n",
        "df['t2_player_kpr_avg'] = df[[f't2_player{i}_kpr' for i in range(1, 6)]].mean(axis=1)\n",
        "\n",
        "df['t1_player_kpr_max'] = df[[f't1_player{i}_kpr' for i in range(1, 6)]].max(axis=1)\n",
        "df['t2_player_kpr_max'] = df[[f't2_player{i}_kpr' for i in range(1, 6)]].max(axis=1)\n",
        "\n",
        "df['t1_player_kpr_min'] = df[[f't1_player{i}_kpr' for i in range(1, 6)]].min(axis=1)\n",
        "df['t2_player_kpr_min'] = df[[f't2_player{i}_kpr' for i in range(1, 6)]].min(axis=1)\n",
        "\n",
        "df['player_kpr_avg_diff'] = df['t1_player_kpr_avg'] - df['t2_player_kpr_avg']\n",
        "df['player_kpr_max_diff'] = df['t1_player_kpr_max'] - df['t2_player_kpr_max']\n",
        "df['player_kpr_min_diff'] = df['t1_player_kpr_min'] - df['t2_player_kpr_min']\n",
        "\n",
        "df[['player_kpr_avg_diff','player_kpr_max_diff', 'player_kpr_min_diff','winner']].head()"
      ]
    },
    {
      "cell_type": "markdown",
      "metadata": {
        "id": "1ftLrGicDZ9t"
      },
      "source": [
        "Aggregate player apr"
      ]
    },
    {
      "cell_type": "code",
      "execution_count": 324,
      "metadata": {
        "colab": {
          "base_uri": "https://localhost:8080/",
          "height": 206
        },
        "id": "vULRUCuAwyTD",
        "outputId": "1f937f80-45d2-4bcc-a45b-fdf9ef84c7a3"
      },
      "outputs": [
        {
          "data": {
            "text/html": [
              "<div>\n",
              "<style scoped>\n",
              "    .dataframe tbody tr th:only-of-type {\n",
              "        vertical-align: middle;\n",
              "    }\n",
              "\n",
              "    .dataframe tbody tr th {\n",
              "        vertical-align: top;\n",
              "    }\n",
              "\n",
              "    .dataframe thead th {\n",
              "        text-align: right;\n",
              "    }\n",
              "</style>\n",
              "<table border=\"1\" class=\"dataframe\">\n",
              "  <thead>\n",
              "    <tr style=\"text-align: right;\">\n",
              "      <th></th>\n",
              "      <th>player_apr_avg_diff</th>\n",
              "      <th>player_apr_max_diff</th>\n",
              "      <th>player_apr_min_diff</th>\n",
              "      <th>winner</th>\n",
              "    </tr>\n",
              "  </thead>\n",
              "  <tbody>\n",
              "    <tr>\n",
              "      <th>0</th>\n",
              "      <td>0.012</td>\n",
              "      <td>0.02</td>\n",
              "      <td>0.01</td>\n",
              "      <td>1</td>\n",
              "    </tr>\n",
              "    <tr>\n",
              "      <th>1</th>\n",
              "      <td>0.028</td>\n",
              "      <td>0.04</td>\n",
              "      <td>0.00</td>\n",
              "      <td>1</td>\n",
              "    </tr>\n",
              "    <tr>\n",
              "      <th>2</th>\n",
              "      <td>-0.022</td>\n",
              "      <td>-0.02</td>\n",
              "      <td>-0.02</td>\n",
              "      <td>0</td>\n",
              "    </tr>\n",
              "    <tr>\n",
              "      <th>3</th>\n",
              "      <td>0.014</td>\n",
              "      <td>0.02</td>\n",
              "      <td>0.00</td>\n",
              "      <td>0</td>\n",
              "    </tr>\n",
              "    <tr>\n",
              "      <th>4</th>\n",
              "      <td>0.022</td>\n",
              "      <td>0.01</td>\n",
              "      <td>0.04</td>\n",
              "      <td>0</td>\n",
              "    </tr>\n",
              "  </tbody>\n",
              "</table>\n",
              "</div>"
            ],
            "text/plain": [
              "   player_apr_avg_diff  player_apr_max_diff  player_apr_min_diff  winner\n",
              "0                0.012                 0.02                 0.01       1\n",
              "1                0.028                 0.04                 0.00       1\n",
              "2               -0.022                -0.02                -0.02       0\n",
              "3                0.014                 0.02                 0.00       0\n",
              "4                0.022                 0.01                 0.04       0"
            ]
          },
          "execution_count": 324,
          "metadata": {},
          "output_type": "execute_result"
        }
      ],
      "source": [
        "df['t1_player_apr_avg'] = df[[f't1_player{i}_apr' for i in range(1, 6)]].mean(axis=1)\n",
        "df['t2_player_apr_avg'] = df[[f't2_player{i}_apr' for i in range(1, 6)]].mean(axis=1)\n",
        "\n",
        "df['t1_player_apr_max'] = df[[f't1_player{i}_apr' for i in range(1, 6)]].max(axis=1)\n",
        "df['t2_player_apr_max'] = df[[f't2_player{i}_apr' for i in range(1, 6)]].max(axis=1)\n",
        "\n",
        "df['t1_player_apr_min'] = df[[f't1_player{i}_apr' for i in range(1, 6)]].min(axis=1)\n",
        "df['t2_player_apr_min'] = df[[f't2_player{i}_apr' for i in range(1, 6)]].min(axis=1)\n",
        "\n",
        "df['player_apr_avg_diff'] = df['t1_player_apr_avg'] - df['t2_player_apr_avg']\n",
        "df['player_apr_max_diff'] = df['t1_player_apr_max'] - df['t2_player_apr_max']\n",
        "df['player_apr_min_diff'] = df['t1_player_apr_min'] - df['t2_player_apr_min']\n",
        "\n",
        "df[['player_apr_avg_diff','player_apr_max_diff','player_apr_min_diff', 'winner']].head()\n"
      ]
    },
    {
      "cell_type": "markdown",
      "metadata": {
        "id": "q1dB0tFSDo-Z"
      },
      "source": [
        "Aggregate player dpr"
      ]
    },
    {
      "cell_type": "code",
      "execution_count": 325,
      "metadata": {
        "colab": {
          "base_uri": "https://localhost:8080/",
          "height": 206
        },
        "id": "UCLe7PZzw5T-",
        "outputId": "672ee272-6f60-4172-9ac5-ff1bed48a869"
      },
      "outputs": [
        {
          "data": {
            "text/html": [
              "<div>\n",
              "<style scoped>\n",
              "    .dataframe tbody tr th:only-of-type {\n",
              "        vertical-align: middle;\n",
              "    }\n",
              "\n",
              "    .dataframe tbody tr th {\n",
              "        vertical-align: top;\n",
              "    }\n",
              "\n",
              "    .dataframe thead th {\n",
              "        text-align: right;\n",
              "    }\n",
              "</style>\n",
              "<table border=\"1\" class=\"dataframe\">\n",
              "  <thead>\n",
              "    <tr style=\"text-align: right;\">\n",
              "      <th></th>\n",
              "      <th>player_dpr_avg_diff</th>\n",
              "      <th>player_dpr_max_diff</th>\n",
              "      <th>player_dpr_min_diff</th>\n",
              "      <th>winner</th>\n",
              "    </tr>\n",
              "  </thead>\n",
              "  <tbody>\n",
              "    <tr>\n",
              "      <th>0</th>\n",
              "      <td>-0.018</td>\n",
              "      <td>-0.02</td>\n",
              "      <td>-0.06</td>\n",
              "      <td>1</td>\n",
              "    </tr>\n",
              "    <tr>\n",
              "      <th>1</th>\n",
              "      <td>-0.052</td>\n",
              "      <td>0.00</td>\n",
              "      <td>-0.10</td>\n",
              "      <td>1</td>\n",
              "    </tr>\n",
              "    <tr>\n",
              "      <th>2</th>\n",
              "      <td>0.028</td>\n",
              "      <td>-0.01</td>\n",
              "      <td>0.06</td>\n",
              "      <td>0</td>\n",
              "    </tr>\n",
              "    <tr>\n",
              "      <th>3</th>\n",
              "      <td>-0.036</td>\n",
              "      <td>0.00</td>\n",
              "      <td>-0.07</td>\n",
              "      <td>0</td>\n",
              "    </tr>\n",
              "    <tr>\n",
              "      <th>4</th>\n",
              "      <td>-0.012</td>\n",
              "      <td>-0.04</td>\n",
              "      <td>0.01</td>\n",
              "      <td>0</td>\n",
              "    </tr>\n",
              "  </tbody>\n",
              "</table>\n",
              "</div>"
            ],
            "text/plain": [
              "   player_dpr_avg_diff  player_dpr_max_diff  player_dpr_min_diff  winner\n",
              "0               -0.018                -0.02                -0.06       1\n",
              "1               -0.052                 0.00                -0.10       1\n",
              "2                0.028                -0.01                 0.06       0\n",
              "3               -0.036                 0.00                -0.07       0\n",
              "4               -0.012                -0.04                 0.01       0"
            ]
          },
          "execution_count": 325,
          "metadata": {},
          "output_type": "execute_result"
        }
      ],
      "source": [
        "df['t1_player_dpr_avg'] = df[[f't1_player{i}_dpr' for i in range(1, 6)]].mean(axis=1)\n",
        "df['t2_player_dpr_avg'] = df[[f't2_player{i}_dpr' for i in range(1, 6)]].mean(axis=1)\n",
        "\n",
        "df['t1_player_dpr_max'] = df[[f't1_player{i}_dpr' for i in range(1, 6)]].max(axis=1)\n",
        "df['t2_player_dpr_max'] = df[[f't2_player{i}_dpr' for i in range(1, 6)]].max(axis=1)\n",
        "\n",
        "df['t1_player_dpr_min'] = df[[f't1_player{i}_dpr' for i in range(1, 6)]].min(axis=1)\n",
        "df['t2_player_dpr_min'] = df[[f't2_player{i}_dpr' for i in range(1, 6)]].min(axis=1)\n",
        "\n",
        "df['player_dpr_avg_diff'] = df['t1_player_dpr_avg'] - df['t2_player_dpr_avg']\n",
        "df['player_dpr_max_diff'] = df['t1_player_dpr_max'] - df['t2_player_dpr_max']\n",
        "df['player_dpr_min_diff'] = df['t1_player_dpr_min'] - df['t2_player_dpr_min']\n",
        "\n",
        "df[['player_dpr_avg_diff','player_dpr_max_diff','player_dpr_min_diff', 'winner']].head()\n"
      ]
    },
    {
      "cell_type": "markdown",
      "metadata": {
        "id": "TTzSiQT9D0At"
      },
      "source": [
        "Aggregate player spr"
      ]
    },
    {
      "cell_type": "code",
      "execution_count": 326,
      "metadata": {
        "colab": {
          "base_uri": "https://localhost:8080/",
          "height": 206
        },
        "id": "h2c3Q6hVxK4J",
        "outputId": "4697f379-de68-4c7e-a7b5-0d75a043b519"
      },
      "outputs": [
        {
          "data": {
            "text/html": [
              "<div>\n",
              "<style scoped>\n",
              "    .dataframe tbody tr th:only-of-type {\n",
              "        vertical-align: middle;\n",
              "    }\n",
              "\n",
              "    .dataframe tbody tr th {\n",
              "        vertical-align: top;\n",
              "    }\n",
              "\n",
              "    .dataframe thead th {\n",
              "        text-align: right;\n",
              "    }\n",
              "</style>\n",
              "<table border=\"1\" class=\"dataframe\">\n",
              "  <thead>\n",
              "    <tr style=\"text-align: right;\">\n",
              "      <th></th>\n",
              "      <th>player_spr_avg_diff</th>\n",
              "      <th>player_spr_max_diff</th>\n",
              "      <th>player_spr_min_diff</th>\n",
              "      <th>winner</th>\n",
              "    </tr>\n",
              "  </thead>\n",
              "  <tbody>\n",
              "    <tr>\n",
              "      <th>0</th>\n",
              "      <td>-0.002</td>\n",
              "      <td>0.00</td>\n",
              "      <td>0.01</td>\n",
              "      <td>1</td>\n",
              "    </tr>\n",
              "    <tr>\n",
              "      <th>1</th>\n",
              "      <td>-0.016</td>\n",
              "      <td>-0.04</td>\n",
              "      <td>-0.02</td>\n",
              "      <td>1</td>\n",
              "    </tr>\n",
              "    <tr>\n",
              "      <th>2</th>\n",
              "      <td>0.008</td>\n",
              "      <td>0.02</td>\n",
              "      <td>0.01</td>\n",
              "      <td>0</td>\n",
              "    </tr>\n",
              "    <tr>\n",
              "      <th>3</th>\n",
              "      <td>-0.012</td>\n",
              "      <td>-0.04</td>\n",
              "      <td>-0.01</td>\n",
              "      <td>0</td>\n",
              "    </tr>\n",
              "    <tr>\n",
              "      <th>4</th>\n",
              "      <td>0.010</td>\n",
              "      <td>0.00</td>\n",
              "      <td>0.01</td>\n",
              "      <td>0</td>\n",
              "    </tr>\n",
              "  </tbody>\n",
              "</table>\n",
              "</div>"
            ],
            "text/plain": [
              "   player_spr_avg_diff  player_spr_max_diff  player_spr_min_diff  winner\n",
              "0               -0.002                 0.00                 0.01       1\n",
              "1               -0.016                -0.04                -0.02       1\n",
              "2                0.008                 0.02                 0.01       0\n",
              "3               -0.012                -0.04                -0.01       0\n",
              "4                0.010                 0.00                 0.01       0"
            ]
          },
          "execution_count": 326,
          "metadata": {},
          "output_type": "execute_result"
        }
      ],
      "source": [
        "df['t1_player_spr_avg'] = df[[f't1_player{i}_spr' for i in range(1, 6)]].mean(axis=1)\n",
        "df['t2_player_spr_avg'] = df[[f't2_player{i}_spr' for i in range(1, 6)]].mean(axis=1)\n",
        "\n",
        "df['t1_player_spr_max'] = df[[f't1_player{i}_spr' for i in range(1, 6)]].max(axis=1)\n",
        "df['t2_player_spr_max'] = df[[f't2_player{i}_spr' for i in range(1, 6)]].max(axis=1)\n",
        "\n",
        "df['t1_player_spr_min'] = df[[f't1_player{i}_spr' for i in range(1, 6)]].min(axis=1)\n",
        "df['t2_player_spr_min'] = df[[f't2_player{i}_spr' for i in range(1, 6)]].min(axis=1)\n",
        "\n",
        "df['player_spr_avg_diff'] = df['t1_player_spr_avg'] - df['t2_player_spr_avg']\n",
        "df['player_spr_max_diff'] = df['t1_player_spr_max'] - df['t2_player_spr_max']\n",
        "df['player_spr_min_diff'] = df['t1_player_spr_min'] - df['t2_player_spr_min']\n",
        "\n",
        "df[['player_spr_avg_diff','player_spr_max_diff','player_spr_min_diff', 'winner']].head()"
      ]
    },
    {
      "cell_type": "markdown",
      "metadata": {
        "id": "yEEVQcHND7Kc"
      },
      "source": [
        "Aggregate player opk ratio"
      ]
    },
    {
      "cell_type": "code",
      "execution_count": 327,
      "metadata": {
        "colab": {
          "base_uri": "https://localhost:8080/",
          "height": 206
        },
        "id": "AxTlSCZ6xVXg",
        "outputId": "6402e9f8-e395-4aae-e08e-c097e587ebb0"
      },
      "outputs": [
        {
          "data": {
            "text/html": [
              "<div>\n",
              "<style scoped>\n",
              "    .dataframe tbody tr th:only-of-type {\n",
              "        vertical-align: middle;\n",
              "    }\n",
              "\n",
              "    .dataframe tbody tr th {\n",
              "        vertical-align: top;\n",
              "    }\n",
              "\n",
              "    .dataframe thead th {\n",
              "        text-align: right;\n",
              "    }\n",
              "</style>\n",
              "<table border=\"1\" class=\"dataframe\">\n",
              "  <thead>\n",
              "    <tr style=\"text-align: right;\">\n",
              "      <th></th>\n",
              "      <th>player_opk_ratio_avg_diff</th>\n",
              "      <th>player_opk_ratio_max_diff</th>\n",
              "      <th>player_opk_ratio_min_diff</th>\n",
              "      <th>winner</th>\n",
              "    </tr>\n",
              "  </thead>\n",
              "  <tbody>\n",
              "    <tr>\n",
              "      <th>0</th>\n",
              "      <td>0.122</td>\n",
              "      <td>0.65</td>\n",
              "      <td>-0.04</td>\n",
              "      <td>1</td>\n",
              "    </tr>\n",
              "    <tr>\n",
              "      <th>1</th>\n",
              "      <td>0.226</td>\n",
              "      <td>0.53</td>\n",
              "      <td>0.00</td>\n",
              "      <td>1</td>\n",
              "    </tr>\n",
              "    <tr>\n",
              "      <th>2</th>\n",
              "      <td>-0.148</td>\n",
              "      <td>-0.23</td>\n",
              "      <td>-0.13</td>\n",
              "      <td>0</td>\n",
              "    </tr>\n",
              "    <tr>\n",
              "      <th>3</th>\n",
              "      <td>0.094</td>\n",
              "      <td>0.19</td>\n",
              "      <td>-0.08</td>\n",
              "      <td>0</td>\n",
              "    </tr>\n",
              "    <tr>\n",
              "      <th>4</th>\n",
              "      <td>0.038</td>\n",
              "      <td>-0.12</td>\n",
              "      <td>0.07</td>\n",
              "      <td>0</td>\n",
              "    </tr>\n",
              "  </tbody>\n",
              "</table>\n",
              "</div>"
            ],
            "text/plain": [
              "   player_opk_ratio_avg_diff  player_opk_ratio_max_diff  \\\n",
              "0                      0.122                       0.65   \n",
              "1                      0.226                       0.53   \n",
              "2                     -0.148                      -0.23   \n",
              "3                      0.094                       0.19   \n",
              "4                      0.038                      -0.12   \n",
              "\n",
              "   player_opk_ratio_min_diff  winner  \n",
              "0                      -0.04       1  \n",
              "1                       0.00       1  \n",
              "2                      -0.13       0  \n",
              "3                      -0.08       0  \n",
              "4                       0.07       0  "
            ]
          },
          "execution_count": 327,
          "metadata": {},
          "output_type": "execute_result"
        }
      ],
      "source": [
        "df['t1_player_opk_ratio_avg'] = df[[f't1_player{i}_opk_ratio' for i in range(1, 6)]].mean(axis=1)\n",
        "df['t2_player_opk_ratio_avg'] = df[[f't2_player{i}_opk_ratio' for i in range(1, 6)]].mean(axis=1)\n",
        "\n",
        "df['t1_player_opk_ratio_max'] = df[[f't1_player{i}_opk_ratio' for i in range(1, 6)]].max(axis=1)\n",
        "df['t2_player_opk_ratio_max'] = df[[f't2_player{i}_opk_ratio' for i in range(1, 6)]].max(axis=1)\n",
        "\n",
        "df['t1_player_opk_ratio_min'] = df[[f't1_player{i}_opk_ratio' for i in range(1, 6)]].min(axis=1)\n",
        "df['t2_player_opk_ratio_min'] = df[[f't2_player{i}_opk_ratio' for i in range(1, 6)]].min(axis=1)\n",
        "\n",
        "df['player_opk_ratio_avg_diff'] = df['t1_player_opk_ratio_avg'] - df['t2_player_opk_ratio_avg']\n",
        "df['player_opk_ratio_max_diff'] = df['t1_player_opk_ratio_max'] - df['t2_player_opk_ratio_max']\n",
        "df['player_opk_ratio_min_diff'] = df['t1_player_opk_ratio_min'] - df['t2_player_opk_ratio_min']\n",
        "\n",
        "df[['player_opk_ratio_avg_diff','player_opk_ratio_max_diff','player_opk_ratio_min_diff', 'winner']].head()\n"
      ]
    },
    {
      "cell_type": "markdown",
      "metadata": {
        "id": "Wc0EiquGEJm7"
      },
      "source": [
        "Aggregate player opk rating"
      ]
    },
    {
      "cell_type": "code",
      "execution_count": 328,
      "metadata": {
        "colab": {
          "base_uri": "https://localhost:8080/",
          "height": 476
        },
        "id": "zHLt72hTxdde",
        "outputId": "5ec14a24-290a-4e47-e151-628cb1295d3b"
      },
      "outputs": [
        {
          "name": "stderr",
          "output_type": "stream",
          "text": [
            "/var/folders/vl/3q9b07611gqby1x98vqdh4dr0000gn/T/ipykernel_81918/2776659095.py:4: PerformanceWarning: DataFrame is highly fragmented.  This is usually the result of calling `frame.insert` many times, which has poor performance.  Consider joining all columns at once using pd.concat(axis=1) instead. To get a de-fragmented frame, use `newframe = frame.copy()`\n",
            "  df['t1_player_opk_rating_max'] = df[[f't1_player{i}_opk_rating' for i in range(1, 6)]].max(axis=1)\n",
            "/var/folders/vl/3q9b07611gqby1x98vqdh4dr0000gn/T/ipykernel_81918/2776659095.py:5: PerformanceWarning: DataFrame is highly fragmented.  This is usually the result of calling `frame.insert` many times, which has poor performance.  Consider joining all columns at once using pd.concat(axis=1) instead. To get a de-fragmented frame, use `newframe = frame.copy()`\n",
            "  df['t2_player_opk_rating_max'] = df[[f't2_player{i}_opk_rating' for i in range(1, 6)]].max(axis=1)\n",
            "/var/folders/vl/3q9b07611gqby1x98vqdh4dr0000gn/T/ipykernel_81918/2776659095.py:7: PerformanceWarning: DataFrame is highly fragmented.  This is usually the result of calling `frame.insert` many times, which has poor performance.  Consider joining all columns at once using pd.concat(axis=1) instead. To get a de-fragmented frame, use `newframe = frame.copy()`\n",
            "  df['t1_player_opk_rating_min'] = df[[f't1_player{i}_opk_rating' for i in range(1, 6)]].min(axis=1)\n",
            "/var/folders/vl/3q9b07611gqby1x98vqdh4dr0000gn/T/ipykernel_81918/2776659095.py:8: PerformanceWarning: DataFrame is highly fragmented.  This is usually the result of calling `frame.insert` many times, which has poor performance.  Consider joining all columns at once using pd.concat(axis=1) instead. To get a de-fragmented frame, use `newframe = frame.copy()`\n",
            "  df['t2_player_opk_rating_min'] = df[[f't2_player{i}_opk_rating' for i in range(1, 6)]].min(axis=1)\n",
            "/var/folders/vl/3q9b07611gqby1x98vqdh4dr0000gn/T/ipykernel_81918/2776659095.py:10: PerformanceWarning: DataFrame is highly fragmented.  This is usually the result of calling `frame.insert` many times, which has poor performance.  Consider joining all columns at once using pd.concat(axis=1) instead. To get a de-fragmented frame, use `newframe = frame.copy()`\n",
            "  df['player_opk_rating_avg_diff'] = df['t1_player_opk_rating_avg'] - df['t2_player_opk_rating_avg']\n",
            "/var/folders/vl/3q9b07611gqby1x98vqdh4dr0000gn/T/ipykernel_81918/2776659095.py:11: PerformanceWarning: DataFrame is highly fragmented.  This is usually the result of calling `frame.insert` many times, which has poor performance.  Consider joining all columns at once using pd.concat(axis=1) instead. To get a de-fragmented frame, use `newframe = frame.copy()`\n",
            "  df['player_opk_rating_max_diff'] = df['t1_player_opk_rating_max'] - df['t2_player_opk_rating_max']\n",
            "/var/folders/vl/3q9b07611gqby1x98vqdh4dr0000gn/T/ipykernel_81918/2776659095.py:12: PerformanceWarning: DataFrame is highly fragmented.  This is usually the result of calling `frame.insert` many times, which has poor performance.  Consider joining all columns at once using pd.concat(axis=1) instead. To get a de-fragmented frame, use `newframe = frame.copy()`\n",
            "  df['player_opk_rating_min_diff'] = df['t1_player_opk_rating_min'] - df['t2_player_opk_rating_min']\n"
          ]
        },
        {
          "data": {
            "text/html": [
              "<div>\n",
              "<style scoped>\n",
              "    .dataframe tbody tr th:only-of-type {\n",
              "        vertical-align: middle;\n",
              "    }\n",
              "\n",
              "    .dataframe tbody tr th {\n",
              "        vertical-align: top;\n",
              "    }\n",
              "\n",
              "    .dataframe thead th {\n",
              "        text-align: right;\n",
              "    }\n",
              "</style>\n",
              "<table border=\"1\" class=\"dataframe\">\n",
              "  <thead>\n",
              "    <tr style=\"text-align: right;\">\n",
              "      <th></th>\n",
              "      <th>player_opk_rating_avg_diff</th>\n",
              "      <th>player_opk_rating_max_diff</th>\n",
              "      <th>player_opk_rating_min_diff</th>\n",
              "      <th>winner</th>\n",
              "    </tr>\n",
              "  </thead>\n",
              "  <tbody>\n",
              "    <tr>\n",
              "      <th>0</th>\n",
              "      <td>0.006</td>\n",
              "      <td>-0.11</td>\n",
              "      <td>0.05</td>\n",
              "      <td>1</td>\n",
              "    </tr>\n",
              "    <tr>\n",
              "      <th>1</th>\n",
              "      <td>0.062</td>\n",
              "      <td>0.03</td>\n",
              "      <td>0.07</td>\n",
              "      <td>1</td>\n",
              "    </tr>\n",
              "    <tr>\n",
              "      <th>2</th>\n",
              "      <td>-0.030</td>\n",
              "      <td>0.09</td>\n",
              "      <td>-0.17</td>\n",
              "      <td>0</td>\n",
              "    </tr>\n",
              "    <tr>\n",
              "      <th>3</th>\n",
              "      <td>0.024</td>\n",
              "      <td>-0.04</td>\n",
              "      <td>0.02</td>\n",
              "      <td>0</td>\n",
              "    </tr>\n",
              "    <tr>\n",
              "      <th>4</th>\n",
              "      <td>0.014</td>\n",
              "      <td>-0.06</td>\n",
              "      <td>0.06</td>\n",
              "      <td>0</td>\n",
              "    </tr>\n",
              "  </tbody>\n",
              "</table>\n",
              "</div>"
            ],
            "text/plain": [
              "   player_opk_rating_avg_diff  player_opk_rating_max_diff  \\\n",
              "0                       0.006                       -0.11   \n",
              "1                       0.062                        0.03   \n",
              "2                      -0.030                        0.09   \n",
              "3                       0.024                       -0.04   \n",
              "4                       0.014                       -0.06   \n",
              "\n",
              "   player_opk_rating_min_diff  winner  \n",
              "0                        0.05       1  \n",
              "1                        0.07       1  \n",
              "2                       -0.17       0  \n",
              "3                        0.02       0  \n",
              "4                        0.06       0  "
            ]
          },
          "execution_count": 328,
          "metadata": {},
          "output_type": "execute_result"
        }
      ],
      "source": [
        "df['t1_player_opk_rating_avg'] = df[[f't1_player{i}_opk_rating' for i in range(1, 6)]].mean(axis=1)\n",
        "df['t2_player_opk_rating_avg'] = df[[f't2_player{i}_opk_rating' for i in range(1, 6)]].mean(axis=1)\n",
        "\n",
        "df['t1_player_opk_rating_max'] = df[[f't1_player{i}_opk_rating' for i in range(1, 6)]].max(axis=1)\n",
        "df['t2_player_opk_rating_max'] = df[[f't2_player{i}_opk_rating' for i in range(1, 6)]].max(axis=1)\n",
        "\n",
        "df['t1_player_opk_rating_min'] = df[[f't1_player{i}_opk_rating' for i in range(1, 6)]].min(axis=1)\n",
        "df['t2_player_opk_rating_min'] = df[[f't2_player{i}_opk_rating' for i in range(1, 6)]].min(axis=1)\n",
        "\n",
        "df['player_opk_rating_avg_diff'] = df['t1_player_opk_rating_avg'] - df['t2_player_opk_rating_avg']\n",
        "df['player_opk_rating_max_diff'] = df['t1_player_opk_rating_max'] - df['t2_player_opk_rating_max']\n",
        "df['player_opk_rating_min_diff'] = df['t1_player_opk_rating_min'] - df['t2_player_opk_rating_min']\n",
        "\n",
        "df[['player_opk_rating_avg_diff','player_opk_rating_max_diff', 'player_opk_rating_min_diff', 'winner']].head()\n"
      ]
    },
    {
      "cell_type": "markdown",
      "metadata": {
        "id": "KGZQO5LtERtr"
      },
      "source": [
        "aggregate player wins perc after fk"
      ]
    },
    {
      "cell_type": "code",
      "execution_count": 329,
      "metadata": {
        "colab": {
          "base_uri": "https://localhost:8080/",
          "height": 548
        },
        "id": "IVE675sMxkbn",
        "outputId": "023bfb83-876b-44ad-a342-b9e9feb6373e"
      },
      "outputs": [
        {
          "name": "stderr",
          "output_type": "stream",
          "text": [
            "/var/folders/vl/3q9b07611gqby1x98vqdh4dr0000gn/T/ipykernel_81918/1264664076.py:1: PerformanceWarning: DataFrame is highly fragmented.  This is usually the result of calling `frame.insert` many times, which has poor performance.  Consider joining all columns at once using pd.concat(axis=1) instead. To get a de-fragmented frame, use `newframe = frame.copy()`\n",
            "  df['t1_player_wins_perc_after_fk_avg'] = df[[f't1_player{i}_wins_perc_after_fk' for i in range(1, 6)]].mean(axis=1)\n",
            "/var/folders/vl/3q9b07611gqby1x98vqdh4dr0000gn/T/ipykernel_81918/1264664076.py:2: PerformanceWarning: DataFrame is highly fragmented.  This is usually the result of calling `frame.insert` many times, which has poor performance.  Consider joining all columns at once using pd.concat(axis=1) instead. To get a de-fragmented frame, use `newframe = frame.copy()`\n",
            "  df['t2_player_wins_perc_after_fk_avg'] = df[[f't2_player{i}_wins_perc_after_fk' for i in range(1, 6)]].mean(axis=1)\n",
            "/var/folders/vl/3q9b07611gqby1x98vqdh4dr0000gn/T/ipykernel_81918/1264664076.py:4: PerformanceWarning: DataFrame is highly fragmented.  This is usually the result of calling `frame.insert` many times, which has poor performance.  Consider joining all columns at once using pd.concat(axis=1) instead. To get a de-fragmented frame, use `newframe = frame.copy()`\n",
            "  df['t1_player_wins_perc_after_fk_max'] = df[[f't1_player{i}_wins_perc_after_fk' for i in range(1, 6)]].max(axis=1)\n",
            "/var/folders/vl/3q9b07611gqby1x98vqdh4dr0000gn/T/ipykernel_81918/1264664076.py:5: PerformanceWarning: DataFrame is highly fragmented.  This is usually the result of calling `frame.insert` many times, which has poor performance.  Consider joining all columns at once using pd.concat(axis=1) instead. To get a de-fragmented frame, use `newframe = frame.copy()`\n",
            "  df['t2_player_wins_perc_after_fk_max'] = df[[f't2_player{i}_wins_perc_after_fk' for i in range(1, 6)]].max(axis=1)\n",
            "/var/folders/vl/3q9b07611gqby1x98vqdh4dr0000gn/T/ipykernel_81918/1264664076.py:7: PerformanceWarning: DataFrame is highly fragmented.  This is usually the result of calling `frame.insert` many times, which has poor performance.  Consider joining all columns at once using pd.concat(axis=1) instead. To get a de-fragmented frame, use `newframe = frame.copy()`\n",
            "  df['t1_player_wins_perc_after_fk_min'] = df[[f't1_player{i}_wins_perc_after_fk' for i in range(1, 6)]].min(axis=1)\n",
            "/var/folders/vl/3q9b07611gqby1x98vqdh4dr0000gn/T/ipykernel_81918/1264664076.py:8: PerformanceWarning: DataFrame is highly fragmented.  This is usually the result of calling `frame.insert` many times, which has poor performance.  Consider joining all columns at once using pd.concat(axis=1) instead. To get a de-fragmented frame, use `newframe = frame.copy()`\n",
            "  df['t2_player_wins_perc_after_fk_min'] = df[[f't2_player{i}_wins_perc_after_fk' for i in range(1, 6)]].min(axis=1)\n",
            "/var/folders/vl/3q9b07611gqby1x98vqdh4dr0000gn/T/ipykernel_81918/1264664076.py:10: PerformanceWarning: DataFrame is highly fragmented.  This is usually the result of calling `frame.insert` many times, which has poor performance.  Consider joining all columns at once using pd.concat(axis=1) instead. To get a de-fragmented frame, use `newframe = frame.copy()`\n",
            "  df['player_wins_perc_after_fk_avg_diff'] = df['t1_player_wins_perc_after_fk_avg'] - df['t2_player_wins_perc_after_fk_avg']\n",
            "/var/folders/vl/3q9b07611gqby1x98vqdh4dr0000gn/T/ipykernel_81918/1264664076.py:11: PerformanceWarning: DataFrame is highly fragmented.  This is usually the result of calling `frame.insert` many times, which has poor performance.  Consider joining all columns at once using pd.concat(axis=1) instead. To get a de-fragmented frame, use `newframe = frame.copy()`\n",
            "  df['player_wins_perc_after_fk_max_diff'] = df['t1_player_wins_perc_after_fk_max'] - df['t2_player_wins_perc_after_fk_max']\n",
            "/var/folders/vl/3q9b07611gqby1x98vqdh4dr0000gn/T/ipykernel_81918/1264664076.py:12: PerformanceWarning: DataFrame is highly fragmented.  This is usually the result of calling `frame.insert` many times, which has poor performance.  Consider joining all columns at once using pd.concat(axis=1) instead. To get a de-fragmented frame, use `newframe = frame.copy()`\n",
            "  df['player_wins_perc_after_fk_min_diff'] = df['t1_player_wins_perc_after_fk_min'] - df['t2_player_wins_perc_after_fk_min']\n"
          ]
        },
        {
          "data": {
            "text/html": [
              "<div>\n",
              "<style scoped>\n",
              "    .dataframe tbody tr th:only-of-type {\n",
              "        vertical-align: middle;\n",
              "    }\n",
              "\n",
              "    .dataframe tbody tr th {\n",
              "        vertical-align: top;\n",
              "    }\n",
              "\n",
              "    .dataframe thead th {\n",
              "        text-align: right;\n",
              "    }\n",
              "</style>\n",
              "<table border=\"1\" class=\"dataframe\">\n",
              "  <thead>\n",
              "    <tr style=\"text-align: right;\">\n",
              "      <th></th>\n",
              "      <th>player_wins_perc_after_fk_avg_diff</th>\n",
              "      <th>player_wins_perc_after_fk_max_diff</th>\n",
              "      <th>player_wins_perc_after_fk_min_diff</th>\n",
              "      <th>winner</th>\n",
              "    </tr>\n",
              "  </thead>\n",
              "  <tbody>\n",
              "    <tr>\n",
              "      <th>0</th>\n",
              "      <td>0.0260</td>\n",
              "      <td>0.018</td>\n",
              "      <td>0.022</td>\n",
              "      <td>1</td>\n",
              "    </tr>\n",
              "    <tr>\n",
              "      <th>1</th>\n",
              "      <td>0.0728</td>\n",
              "      <td>0.076</td>\n",
              "      <td>0.085</td>\n",
              "      <td>1</td>\n",
              "    </tr>\n",
              "    <tr>\n",
              "      <th>2</th>\n",
              "      <td>-0.0414</td>\n",
              "      <td>-0.030</td>\n",
              "      <td>-0.056</td>\n",
              "      <td>0</td>\n",
              "    </tr>\n",
              "    <tr>\n",
              "      <th>3</th>\n",
              "      <td>0.0542</td>\n",
              "      <td>0.054</td>\n",
              "      <td>0.060</td>\n",
              "      <td>0</td>\n",
              "    </tr>\n",
              "    <tr>\n",
              "      <th>4</th>\n",
              "      <td>-0.0102</td>\n",
              "      <td>-0.061</td>\n",
              "      <td>0.005</td>\n",
              "      <td>0</td>\n",
              "    </tr>\n",
              "  </tbody>\n",
              "</table>\n",
              "</div>"
            ],
            "text/plain": [
              "   player_wins_perc_after_fk_avg_diff  player_wins_perc_after_fk_max_diff  \\\n",
              "0                              0.0260                               0.018   \n",
              "1                              0.0728                               0.076   \n",
              "2                             -0.0414                              -0.030   \n",
              "3                              0.0542                               0.054   \n",
              "4                             -0.0102                              -0.061   \n",
              "\n",
              "   player_wins_perc_after_fk_min_diff  winner  \n",
              "0                               0.022       1  \n",
              "1                               0.085       1  \n",
              "2                              -0.056       0  \n",
              "3                               0.060       0  \n",
              "4                               0.005       0  "
            ]
          },
          "execution_count": 329,
          "metadata": {},
          "output_type": "execute_result"
        }
      ],
      "source": [
        "df['t1_player_wins_perc_after_fk_avg'] = df[[f't1_player{i}_wins_perc_after_fk' for i in range(1, 6)]].mean(axis=1)\n",
        "df['t2_player_wins_perc_after_fk_avg'] = df[[f't2_player{i}_wins_perc_after_fk' for i in range(1, 6)]].mean(axis=1)\n",
        "\n",
        "df['t1_player_wins_perc_after_fk_max'] = df[[f't1_player{i}_wins_perc_after_fk' for i in range(1, 6)]].max(axis=1)\n",
        "df['t2_player_wins_perc_after_fk_max'] = df[[f't2_player{i}_wins_perc_after_fk' for i in range(1, 6)]].max(axis=1)\n",
        "\n",
        "df['t1_player_wins_perc_after_fk_min'] = df[[f't1_player{i}_wins_perc_after_fk' for i in range(1, 6)]].min(axis=1)\n",
        "df['t2_player_wins_perc_after_fk_min'] = df[[f't2_player{i}_wins_perc_after_fk' for i in range(1, 6)]].min(axis=1)\n",
        "\n",
        "df['player_wins_perc_after_fk_avg_diff'] = df['t1_player_wins_perc_after_fk_avg'] - df['t2_player_wins_perc_after_fk_avg']\n",
        "df['player_wins_perc_after_fk_max_diff'] = df['t1_player_wins_perc_after_fk_max'] - df['t2_player_wins_perc_after_fk_max']\n",
        "df['player_wins_perc_after_fk_min_diff'] = df['t1_player_wins_perc_after_fk_min'] - df['t2_player_wins_perc_after_fk_min']\n",
        "\n",
        "df[['player_wins_perc_after_fk_avg_diff','player_wins_perc_after_fk_max_diff','player_wins_perc_after_fk_min_diff', 'winner']].head()\n"
      ]
    },
    {
      "cell_type": "markdown",
      "metadata": {
        "id": "DiHE7t-EElVs"
      },
      "source": [
        "Aggregate player multikill perc"
      ]
    },
    {
      "cell_type": "code",
      "execution_count": 330,
      "metadata": {
        "colab": {
          "base_uri": "https://localhost:8080/",
          "height": 548
        },
        "id": "KcKzM6zrxznd",
        "outputId": "bcd46ff0-2b82-4f7e-8df4-df398f75a236"
      },
      "outputs": [
        {
          "name": "stderr",
          "output_type": "stream",
          "text": [
            "/var/folders/vl/3q9b07611gqby1x98vqdh4dr0000gn/T/ipykernel_81918/1187820184.py:1: PerformanceWarning: DataFrame is highly fragmented.  This is usually the result of calling `frame.insert` many times, which has poor performance.  Consider joining all columns at once using pd.concat(axis=1) instead. To get a de-fragmented frame, use `newframe = frame.copy()`\n",
            "  df['t1_player_multikill_perc_avg'] = df[[f't1_player{i}_multikill_perc' for i in range(1, 6)]].mean(axis=1)\n",
            "/var/folders/vl/3q9b07611gqby1x98vqdh4dr0000gn/T/ipykernel_81918/1187820184.py:2: PerformanceWarning: DataFrame is highly fragmented.  This is usually the result of calling `frame.insert` many times, which has poor performance.  Consider joining all columns at once using pd.concat(axis=1) instead. To get a de-fragmented frame, use `newframe = frame.copy()`\n",
            "  df['t2_player_multikill_perc_avg'] = df[[f't2_player{i}_multikill_perc' for i in range(1, 6)]].mean(axis=1)\n",
            "/var/folders/vl/3q9b07611gqby1x98vqdh4dr0000gn/T/ipykernel_81918/1187820184.py:4: PerformanceWarning: DataFrame is highly fragmented.  This is usually the result of calling `frame.insert` many times, which has poor performance.  Consider joining all columns at once using pd.concat(axis=1) instead. To get a de-fragmented frame, use `newframe = frame.copy()`\n",
            "  df['t1_player_multikill_perc_max'] = df[[f't1_player{i}_multikill_perc' for i in range(1, 6)]].max(axis=1)\n",
            "/var/folders/vl/3q9b07611gqby1x98vqdh4dr0000gn/T/ipykernel_81918/1187820184.py:5: PerformanceWarning: DataFrame is highly fragmented.  This is usually the result of calling `frame.insert` many times, which has poor performance.  Consider joining all columns at once using pd.concat(axis=1) instead. To get a de-fragmented frame, use `newframe = frame.copy()`\n",
            "  df['t2_player_multikill_perc_max'] = df[[f't2_player{i}_multikill_perc' for i in range(1, 6)]].max(axis=1)\n",
            "/var/folders/vl/3q9b07611gqby1x98vqdh4dr0000gn/T/ipykernel_81918/1187820184.py:7: PerformanceWarning: DataFrame is highly fragmented.  This is usually the result of calling `frame.insert` many times, which has poor performance.  Consider joining all columns at once using pd.concat(axis=1) instead. To get a de-fragmented frame, use `newframe = frame.copy()`\n",
            "  df['t1_player_multikill_perc_min'] = df[[f't1_player{i}_multikill_perc' for i in range(1, 6)]].min(axis=1)\n",
            "/var/folders/vl/3q9b07611gqby1x98vqdh4dr0000gn/T/ipykernel_81918/1187820184.py:8: PerformanceWarning: DataFrame is highly fragmented.  This is usually the result of calling `frame.insert` many times, which has poor performance.  Consider joining all columns at once using pd.concat(axis=1) instead. To get a de-fragmented frame, use `newframe = frame.copy()`\n",
            "  df['t2_player_multikill_perc_min'] = df[[f't2_player{i}_multikill_perc' for i in range(1, 6)]].min(axis=1)\n",
            "/var/folders/vl/3q9b07611gqby1x98vqdh4dr0000gn/T/ipykernel_81918/1187820184.py:10: PerformanceWarning: DataFrame is highly fragmented.  This is usually the result of calling `frame.insert` many times, which has poor performance.  Consider joining all columns at once using pd.concat(axis=1) instead. To get a de-fragmented frame, use `newframe = frame.copy()`\n",
            "  df['player_multikill_perc_avg_diff'] = df['t1_player_multikill_perc_avg'] - df['t2_player_multikill_perc_avg']\n",
            "/var/folders/vl/3q9b07611gqby1x98vqdh4dr0000gn/T/ipykernel_81918/1187820184.py:11: PerformanceWarning: DataFrame is highly fragmented.  This is usually the result of calling `frame.insert` many times, which has poor performance.  Consider joining all columns at once using pd.concat(axis=1) instead. To get a de-fragmented frame, use `newframe = frame.copy()`\n",
            "  df['player_multikill_perc_max_diff'] = df['t1_player_multikill_perc_max'] - df['t2_player_multikill_perc_max']\n",
            "/var/folders/vl/3q9b07611gqby1x98vqdh4dr0000gn/T/ipykernel_81918/1187820184.py:12: PerformanceWarning: DataFrame is highly fragmented.  This is usually the result of calling `frame.insert` many times, which has poor performance.  Consider joining all columns at once using pd.concat(axis=1) instead. To get a de-fragmented frame, use `newframe = frame.copy()`\n",
            "  df['player_multikill_perc_min_diff'] = df['t1_player_multikill_perc_min'] - df['t2_player_multikill_perc_min']\n"
          ]
        },
        {
          "data": {
            "text/html": [
              "<div>\n",
              "<style scoped>\n",
              "    .dataframe tbody tr th:only-of-type {\n",
              "        vertical-align: middle;\n",
              "    }\n",
              "\n",
              "    .dataframe tbody tr th {\n",
              "        vertical-align: top;\n",
              "    }\n",
              "\n",
              "    .dataframe thead th {\n",
              "        text-align: right;\n",
              "    }\n",
              "</style>\n",
              "<table border=\"1\" class=\"dataframe\">\n",
              "  <thead>\n",
              "    <tr style=\"text-align: right;\">\n",
              "      <th></th>\n",
              "      <th>player_multikill_perc_avg_diff</th>\n",
              "      <th>player_multikill_perc_max_diff</th>\n",
              "      <th>player_multikill_perc_min_diff</th>\n",
              "      <th>winner</th>\n",
              "    </tr>\n",
              "  </thead>\n",
              "  <tbody>\n",
              "    <tr>\n",
              "      <th>0</th>\n",
              "      <td>0.010610</td>\n",
              "      <td>0.019087</td>\n",
              "      <td>0.011698</td>\n",
              "      <td>1</td>\n",
              "    </tr>\n",
              "    <tr>\n",
              "      <th>1</th>\n",
              "      <td>0.006910</td>\n",
              "      <td>0.008648</td>\n",
              "      <td>0.012447</td>\n",
              "      <td>1</td>\n",
              "    </tr>\n",
              "    <tr>\n",
              "      <th>2</th>\n",
              "      <td>-0.005355</td>\n",
              "      <td>0.003481</td>\n",
              "      <td>-0.008257</td>\n",
              "      <td>0</td>\n",
              "    </tr>\n",
              "    <tr>\n",
              "      <th>3</th>\n",
              "      <td>0.003392</td>\n",
              "      <td>-0.000560</td>\n",
              "      <td>-0.003451</td>\n",
              "      <td>0</td>\n",
              "    </tr>\n",
              "    <tr>\n",
              "      <th>4</th>\n",
              "      <td>0.009436</td>\n",
              "      <td>-0.006060</td>\n",
              "      <td>0.021604</td>\n",
              "      <td>0</td>\n",
              "    </tr>\n",
              "  </tbody>\n",
              "</table>\n",
              "</div>"
            ],
            "text/plain": [
              "   player_multikill_perc_avg_diff  player_multikill_perc_max_diff  \\\n",
              "0                        0.010610                        0.019087   \n",
              "1                        0.006910                        0.008648   \n",
              "2                       -0.005355                        0.003481   \n",
              "3                        0.003392                       -0.000560   \n",
              "4                        0.009436                       -0.006060   \n",
              "\n",
              "   player_multikill_perc_min_diff  winner  \n",
              "0                        0.011698       1  \n",
              "1                        0.012447       1  \n",
              "2                       -0.008257       0  \n",
              "3                       -0.003451       0  \n",
              "4                        0.021604       0  "
            ]
          },
          "execution_count": 330,
          "metadata": {},
          "output_type": "execute_result"
        }
      ],
      "source": [
        "df['t1_player_multikill_perc_avg'] = df[[f't1_player{i}_multikill_perc' for i in range(1, 6)]].mean(axis=1)\n",
        "df['t2_player_multikill_perc_avg'] = df[[f't2_player{i}_multikill_perc' for i in range(1, 6)]].mean(axis=1)\n",
        "\n",
        "df['t1_player_multikill_perc_max'] = df[[f't1_player{i}_multikill_perc' for i in range(1, 6)]].max(axis=1)\n",
        "df['t2_player_multikill_perc_max'] = df[[f't2_player{i}_multikill_perc' for i in range(1, 6)]].max(axis=1)\n",
        "\n",
        "df['t1_player_multikill_perc_min'] = df[[f't1_player{i}_multikill_perc' for i in range(1, 6)]].min(axis=1)\n",
        "df['t2_player_multikill_perc_min'] = df[[f't2_player{i}_multikill_perc' for i in range(1, 6)]].min(axis=1)\n",
        "\n",
        "df['player_multikill_perc_avg_diff'] = df['t1_player_multikill_perc_avg'] - df['t2_player_multikill_perc_avg']\n",
        "df['player_multikill_perc_max_diff'] = df['t1_player_multikill_perc_max'] - df['t2_player_multikill_perc_max']\n",
        "df['player_multikill_perc_min_diff'] = df['t1_player_multikill_perc_min'] - df['t2_player_multikill_perc_min']\n",
        "\n",
        "df[['player_multikill_perc_avg_diff','player_multikill_perc_max_diff','player_multikill_perc_min_diff', 'winner']].head()\n"
      ]
    },
    {
      "cell_type": "markdown",
      "metadata": {
        "id": "GTai8j8FGaFX"
      },
      "source": [
        "Aggregate player rating at least one perc"
      ]
    },
    {
      "cell_type": "code",
      "execution_count": 331,
      "metadata": {
        "colab": {
          "base_uri": "https://localhost:8080/",
          "height": 548
        },
        "id": "0hFixr_5x76q",
        "outputId": "3d1e16c3-0753-4353-a8c8-2f4dceceefea"
      },
      "outputs": [
        {
          "name": "stderr",
          "output_type": "stream",
          "text": [
            "/var/folders/vl/3q9b07611gqby1x98vqdh4dr0000gn/T/ipykernel_81918/3680080503.py:1: PerformanceWarning: DataFrame is highly fragmented.  This is usually the result of calling `frame.insert` many times, which has poor performance.  Consider joining all columns at once using pd.concat(axis=1) instead. To get a de-fragmented frame, use `newframe = frame.copy()`\n",
            "  df['t1_player_rating_at_least_one_perc_avg'] = df[[f't1_player{i}_rating_at_least_one_perc' for i in range(1, 6)]].mean(axis=1)\n",
            "/var/folders/vl/3q9b07611gqby1x98vqdh4dr0000gn/T/ipykernel_81918/3680080503.py:2: PerformanceWarning: DataFrame is highly fragmented.  This is usually the result of calling `frame.insert` many times, which has poor performance.  Consider joining all columns at once using pd.concat(axis=1) instead. To get a de-fragmented frame, use `newframe = frame.copy()`\n",
            "  df['t2_player_rating_at_least_one_perc_avg'] = df[[f't2_player{i}_rating_at_least_one_perc' for i in range(1, 6)]].mean(axis=1)\n",
            "/var/folders/vl/3q9b07611gqby1x98vqdh4dr0000gn/T/ipykernel_81918/3680080503.py:4: PerformanceWarning: DataFrame is highly fragmented.  This is usually the result of calling `frame.insert` many times, which has poor performance.  Consider joining all columns at once using pd.concat(axis=1) instead. To get a de-fragmented frame, use `newframe = frame.copy()`\n",
            "  df['t1_player_rating_at_least_one_perc_max'] = df[[f't1_player{i}_rating_at_least_one_perc' for i in range(1, 6)]].max(axis=1)\n",
            "/var/folders/vl/3q9b07611gqby1x98vqdh4dr0000gn/T/ipykernel_81918/3680080503.py:5: PerformanceWarning: DataFrame is highly fragmented.  This is usually the result of calling `frame.insert` many times, which has poor performance.  Consider joining all columns at once using pd.concat(axis=1) instead. To get a de-fragmented frame, use `newframe = frame.copy()`\n",
            "  df['t2_player_rating_at_least_one_perc_max'] = df[[f't2_player{i}_rating_at_least_one_perc' for i in range(1, 6)]].max(axis=1)\n",
            "/var/folders/vl/3q9b07611gqby1x98vqdh4dr0000gn/T/ipykernel_81918/3680080503.py:7: PerformanceWarning: DataFrame is highly fragmented.  This is usually the result of calling `frame.insert` many times, which has poor performance.  Consider joining all columns at once using pd.concat(axis=1) instead. To get a de-fragmented frame, use `newframe = frame.copy()`\n",
            "  df['t1_player_rating_at_least_one_perc_min'] = df[[f't1_player{i}_rating_at_least_one_perc' for i in range(1, 6)]].min(axis=1)\n",
            "/var/folders/vl/3q9b07611gqby1x98vqdh4dr0000gn/T/ipykernel_81918/3680080503.py:8: PerformanceWarning: DataFrame is highly fragmented.  This is usually the result of calling `frame.insert` many times, which has poor performance.  Consider joining all columns at once using pd.concat(axis=1) instead. To get a de-fragmented frame, use `newframe = frame.copy()`\n",
            "  df['t2_player_rating_at_least_one_perc_min'] = df[[f't2_player{i}_rating_at_least_one_perc' for i in range(1, 6)]].min(axis=1)\n",
            "/var/folders/vl/3q9b07611gqby1x98vqdh4dr0000gn/T/ipykernel_81918/3680080503.py:10: PerformanceWarning: DataFrame is highly fragmented.  This is usually the result of calling `frame.insert` many times, which has poor performance.  Consider joining all columns at once using pd.concat(axis=1) instead. To get a de-fragmented frame, use `newframe = frame.copy()`\n",
            "  df['player_rating_at_least_one_perc_avg_diff'] = df['t1_player_rating_at_least_one_perc_avg'] - df['t2_player_rating_at_least_one_perc_avg']\n",
            "/var/folders/vl/3q9b07611gqby1x98vqdh4dr0000gn/T/ipykernel_81918/3680080503.py:11: PerformanceWarning: DataFrame is highly fragmented.  This is usually the result of calling `frame.insert` many times, which has poor performance.  Consider joining all columns at once using pd.concat(axis=1) instead. To get a de-fragmented frame, use `newframe = frame.copy()`\n",
            "  df['player_rating_at_least_one_perc_max_diff'] = df['t1_player_rating_at_least_one_perc_max'] - df['t2_player_rating_at_least_one_perc_max']\n",
            "/var/folders/vl/3q9b07611gqby1x98vqdh4dr0000gn/T/ipykernel_81918/3680080503.py:12: PerformanceWarning: DataFrame is highly fragmented.  This is usually the result of calling `frame.insert` many times, which has poor performance.  Consider joining all columns at once using pd.concat(axis=1) instead. To get a de-fragmented frame, use `newframe = frame.copy()`\n",
            "  df['player_rating_at_least_one_perc_min_diff'] = df['t1_player_rating_at_least_one_perc_min'] - df['t2_player_rating_at_least_one_perc_min']\n"
          ]
        },
        {
          "data": {
            "text/html": [
              "<div>\n",
              "<style scoped>\n",
              "    .dataframe tbody tr th:only-of-type {\n",
              "        vertical-align: middle;\n",
              "    }\n",
              "\n",
              "    .dataframe tbody tr th {\n",
              "        vertical-align: top;\n",
              "    }\n",
              "\n",
              "    .dataframe thead th {\n",
              "        text-align: right;\n",
              "    }\n",
              "</style>\n",
              "<table border=\"1\" class=\"dataframe\">\n",
              "  <thead>\n",
              "    <tr style=\"text-align: right;\">\n",
              "      <th></th>\n",
              "      <th>player_rating_at_least_one_perc_avg_diff</th>\n",
              "      <th>player_rating_at_least_one_perc_max_diff</th>\n",
              "      <th>player_rating_at_least_one_perc_min_diff</th>\n",
              "      <th>winner</th>\n",
              "    </tr>\n",
              "  </thead>\n",
              "  <tbody>\n",
              "    <tr>\n",
              "      <th>0</th>\n",
              "      <td>0.0736</td>\n",
              "      <td>0.025</td>\n",
              "      <td>0.086</td>\n",
              "      <td>1</td>\n",
              "    </tr>\n",
              "    <tr>\n",
              "      <th>1</th>\n",
              "      <td>0.1496</td>\n",
              "      <td>0.124</td>\n",
              "      <td>0.104</td>\n",
              "      <td>1</td>\n",
              "    </tr>\n",
              "    <tr>\n",
              "      <th>2</th>\n",
              "      <td>-0.0964</td>\n",
              "      <td>-0.031</td>\n",
              "      <td>-0.053</td>\n",
              "      <td>0</td>\n",
              "    </tr>\n",
              "    <tr>\n",
              "      <th>3</th>\n",
              "      <td>0.1084</td>\n",
              "      <td>0.122</td>\n",
              "      <td>0.017</td>\n",
              "      <td>0</td>\n",
              "    </tr>\n",
              "    <tr>\n",
              "      <th>4</th>\n",
              "      <td>0.0804</td>\n",
              "      <td>-0.002</td>\n",
              "      <td>0.116</td>\n",
              "      <td>0</td>\n",
              "    </tr>\n",
              "  </tbody>\n",
              "</table>\n",
              "</div>"
            ],
            "text/plain": [
              "   player_rating_at_least_one_perc_avg_diff  \\\n",
              "0                                    0.0736   \n",
              "1                                    0.1496   \n",
              "2                                   -0.0964   \n",
              "3                                    0.1084   \n",
              "4                                    0.0804   \n",
              "\n",
              "   player_rating_at_least_one_perc_max_diff  \\\n",
              "0                                     0.025   \n",
              "1                                     0.124   \n",
              "2                                    -0.031   \n",
              "3                                     0.122   \n",
              "4                                    -0.002   \n",
              "\n",
              "   player_rating_at_least_one_perc_min_diff  winner  \n",
              "0                                     0.086       1  \n",
              "1                                     0.104       1  \n",
              "2                                    -0.053       0  \n",
              "3                                     0.017       0  \n",
              "4                                     0.116       0  "
            ]
          },
          "execution_count": 331,
          "metadata": {},
          "output_type": "execute_result"
        }
      ],
      "source": [
        "df['t1_player_rating_at_least_one_perc_avg'] = df[[f't1_player{i}_rating_at_least_one_perc' for i in range(1, 6)]].mean(axis=1)\n",
        "df['t2_player_rating_at_least_one_perc_avg'] = df[[f't2_player{i}_rating_at_least_one_perc' for i in range(1, 6)]].mean(axis=1)\n",
        "\n",
        "df['t1_player_rating_at_least_one_perc_max'] = df[[f't1_player{i}_rating_at_least_one_perc' for i in range(1, 6)]].max(axis=1)\n",
        "df['t2_player_rating_at_least_one_perc_max'] = df[[f't2_player{i}_rating_at_least_one_perc' for i in range(1, 6)]].max(axis=1)\n",
        "\n",
        "df['t1_player_rating_at_least_one_perc_min'] = df[[f't1_player{i}_rating_at_least_one_perc' for i in range(1, 6)]].min(axis=1)\n",
        "df['t2_player_rating_at_least_one_perc_min'] = df[[f't2_player{i}_rating_at_least_one_perc' for i in range(1, 6)]].min(axis=1)\n",
        "\n",
        "df['player_rating_at_least_one_perc_avg_diff'] = df['t1_player_rating_at_least_one_perc_avg'] - df['t2_player_rating_at_least_one_perc_avg']\n",
        "df['player_rating_at_least_one_perc_max_diff'] = df['t1_player_rating_at_least_one_perc_max'] - df['t2_player_rating_at_least_one_perc_max']\n",
        "df['player_rating_at_least_one_perc_min_diff'] = df['t1_player_rating_at_least_one_perc_min'] - df['t2_player_rating_at_least_one_perc_min']\n",
        "\n",
        "df[['player_rating_at_least_one_perc_avg_diff','player_rating_at_least_one_perc_max_diff','player_rating_at_least_one_perc_min_diff', 'winner']].head()\n"
      ]
    },
    {
      "cell_type": "markdown",
      "metadata": {
        "id": "PuBS_grDGt9P"
      },
      "source": [
        "Aggregate player clutch win perc"
      ]
    },
    {
      "cell_type": "code",
      "execution_count": 332,
      "metadata": {
        "colab": {
          "base_uri": "https://localhost:8080/",
          "height": 548
        },
        "id": "g0ictFmsyL3R",
        "outputId": "c5690fee-4588-44b9-e380-843a1e68bb91"
      },
      "outputs": [
        {
          "name": "stderr",
          "output_type": "stream",
          "text": [
            "/var/folders/vl/3q9b07611gqby1x98vqdh4dr0000gn/T/ipykernel_81918/2633629092.py:1: PerformanceWarning: DataFrame is highly fragmented.  This is usually the result of calling `frame.insert` many times, which has poor performance.  Consider joining all columns at once using pd.concat(axis=1) instead. To get a de-fragmented frame, use `newframe = frame.copy()`\n",
            "  df['t1_player_clutch_win_perc_avg'] = df[[f't1_player{i}_clutch_win_perc' for i in range(1, 6)]].mean(axis=1)\n",
            "/var/folders/vl/3q9b07611gqby1x98vqdh4dr0000gn/T/ipykernel_81918/2633629092.py:2: PerformanceWarning: DataFrame is highly fragmented.  This is usually the result of calling `frame.insert` many times, which has poor performance.  Consider joining all columns at once using pd.concat(axis=1) instead. To get a de-fragmented frame, use `newframe = frame.copy()`\n",
            "  df['t2_player_clutch_win_perc_avg'] = df[[f't2_player{i}_clutch_win_perc' for i in range(1, 6)]].mean(axis=1)\n",
            "/var/folders/vl/3q9b07611gqby1x98vqdh4dr0000gn/T/ipykernel_81918/2633629092.py:4: PerformanceWarning: DataFrame is highly fragmented.  This is usually the result of calling `frame.insert` many times, which has poor performance.  Consider joining all columns at once using pd.concat(axis=1) instead. To get a de-fragmented frame, use `newframe = frame.copy()`\n",
            "  df['t1_player_clutch_win_perc_max'] = df[[f't1_player{i}_clutch_win_perc' for i in range(1, 6)]].max(axis=1)\n",
            "/var/folders/vl/3q9b07611gqby1x98vqdh4dr0000gn/T/ipykernel_81918/2633629092.py:5: PerformanceWarning: DataFrame is highly fragmented.  This is usually the result of calling `frame.insert` many times, which has poor performance.  Consider joining all columns at once using pd.concat(axis=1) instead. To get a de-fragmented frame, use `newframe = frame.copy()`\n",
            "  df['t2_player_clutch_win_perc_max'] = df[[f't2_player{i}_clutch_win_perc' for i in range(1, 6)]].max(axis=1)\n",
            "/var/folders/vl/3q9b07611gqby1x98vqdh4dr0000gn/T/ipykernel_81918/2633629092.py:7: PerformanceWarning: DataFrame is highly fragmented.  This is usually the result of calling `frame.insert` many times, which has poor performance.  Consider joining all columns at once using pd.concat(axis=1) instead. To get a de-fragmented frame, use `newframe = frame.copy()`\n",
            "  df['t1_player_clutch_win_perc_min'] = df[[f't1_player{i}_clutch_win_perc' for i in range(1, 6)]].min(axis=1)\n",
            "/var/folders/vl/3q9b07611gqby1x98vqdh4dr0000gn/T/ipykernel_81918/2633629092.py:8: PerformanceWarning: DataFrame is highly fragmented.  This is usually the result of calling `frame.insert` many times, which has poor performance.  Consider joining all columns at once using pd.concat(axis=1) instead. To get a de-fragmented frame, use `newframe = frame.copy()`\n",
            "  df['t2_player_clutch_win_perc_min'] = df[[f't2_player{i}_clutch_win_perc' for i in range(1, 6)]].min(axis=1)\n",
            "/var/folders/vl/3q9b07611gqby1x98vqdh4dr0000gn/T/ipykernel_81918/2633629092.py:10: PerformanceWarning: DataFrame is highly fragmented.  This is usually the result of calling `frame.insert` many times, which has poor performance.  Consider joining all columns at once using pd.concat(axis=1) instead. To get a de-fragmented frame, use `newframe = frame.copy()`\n",
            "  df['player_clutch_win_perc_avg_diff'] = df['t1_player_clutch_win_perc_avg'] - df['t2_player_clutch_win_perc_avg']\n",
            "/var/folders/vl/3q9b07611gqby1x98vqdh4dr0000gn/T/ipykernel_81918/2633629092.py:11: PerformanceWarning: DataFrame is highly fragmented.  This is usually the result of calling `frame.insert` many times, which has poor performance.  Consider joining all columns at once using pd.concat(axis=1) instead. To get a de-fragmented frame, use `newframe = frame.copy()`\n",
            "  df['player_clutch_win_perc_max_diff'] = df['t1_player_clutch_win_perc_max'] - df['t2_player_clutch_win_perc_max']\n",
            "/var/folders/vl/3q9b07611gqby1x98vqdh4dr0000gn/T/ipykernel_81918/2633629092.py:12: PerformanceWarning: DataFrame is highly fragmented.  This is usually the result of calling `frame.insert` many times, which has poor performance.  Consider joining all columns at once using pd.concat(axis=1) instead. To get a de-fragmented frame, use `newframe = frame.copy()`\n",
            "  df['player_clutch_win_perc_min_diff'] = df['t1_player_clutch_win_perc_min'] - df['t2_player_clutch_win_perc_min']\n"
          ]
        },
        {
          "data": {
            "text/html": [
              "<div>\n",
              "<style scoped>\n",
              "    .dataframe tbody tr th:only-of-type {\n",
              "        vertical-align: middle;\n",
              "    }\n",
              "\n",
              "    .dataframe tbody tr th {\n",
              "        vertical-align: top;\n",
              "    }\n",
              "\n",
              "    .dataframe thead th {\n",
              "        text-align: right;\n",
              "    }\n",
              "</style>\n",
              "<table border=\"1\" class=\"dataframe\">\n",
              "  <thead>\n",
              "    <tr style=\"text-align: right;\">\n",
              "      <th></th>\n",
              "      <th>player_clutch_win_perc_avg_diff</th>\n",
              "      <th>player_clutch_win_perc_max_diff</th>\n",
              "      <th>player_clutch_win_perc_min_diff</th>\n",
              "      <th>winner</th>\n",
              "    </tr>\n",
              "  </thead>\n",
              "  <tbody>\n",
              "    <tr>\n",
              "      <th>0</th>\n",
              "      <td>0.054151</td>\n",
              "      <td>0.043103</td>\n",
              "      <td>0.065657</td>\n",
              "      <td>1</td>\n",
              "    </tr>\n",
              "    <tr>\n",
              "      <th>1</th>\n",
              "      <td>0.149229</td>\n",
              "      <td>0.171053</td>\n",
              "      <td>0.152174</td>\n",
              "      <td>1</td>\n",
              "    </tr>\n",
              "    <tr>\n",
              "      <th>2</th>\n",
              "      <td>-0.152156</td>\n",
              "      <td>-0.178571</td>\n",
              "      <td>-0.166667</td>\n",
              "      <td>0</td>\n",
              "    </tr>\n",
              "    <tr>\n",
              "      <th>3</th>\n",
              "      <td>0.212352</td>\n",
              "      <td>0.151822</td>\n",
              "      <td>0.309317</td>\n",
              "      <td>0</td>\n",
              "    </tr>\n",
              "    <tr>\n",
              "      <th>4</th>\n",
              "      <td>-0.035427</td>\n",
              "      <td>-0.025862</td>\n",
              "      <td>-0.121212</td>\n",
              "      <td>0</td>\n",
              "    </tr>\n",
              "  </tbody>\n",
              "</table>\n",
              "</div>"
            ],
            "text/plain": [
              "   player_clutch_win_perc_avg_diff  player_clutch_win_perc_max_diff  \\\n",
              "0                         0.054151                         0.043103   \n",
              "1                         0.149229                         0.171053   \n",
              "2                        -0.152156                        -0.178571   \n",
              "3                         0.212352                         0.151822   \n",
              "4                        -0.035427                        -0.025862   \n",
              "\n",
              "   player_clutch_win_perc_min_diff  winner  \n",
              "0                         0.065657       1  \n",
              "1                         0.152174       1  \n",
              "2                        -0.166667       0  \n",
              "3                         0.309317       0  \n",
              "4                        -0.121212       0  "
            ]
          },
          "execution_count": 332,
          "metadata": {},
          "output_type": "execute_result"
        }
      ],
      "source": [
        "df['t1_player_clutch_win_perc_avg'] = df[[f't1_player{i}_clutch_win_perc' for i in range(1, 6)]].mean(axis=1)\n",
        "df['t2_player_clutch_win_perc_avg'] = df[[f't2_player{i}_clutch_win_perc' for i in range(1, 6)]].mean(axis=1)\n",
        "\n",
        "df['t1_player_clutch_win_perc_max'] = df[[f't1_player{i}_clutch_win_perc' for i in range(1, 6)]].max(axis=1)\n",
        "df['t2_player_clutch_win_perc_max'] = df[[f't2_player{i}_clutch_win_perc' for i in range(1, 6)]].max(axis=1)\n",
        "\n",
        "df['t1_player_clutch_win_perc_min'] = df[[f't1_player{i}_clutch_win_perc' for i in range(1, 6)]].min(axis=1)\n",
        "df['t2_player_clutch_win_perc_min'] = df[[f't2_player{i}_clutch_win_perc' for i in range(1, 6)]].min(axis=1)\n",
        "\n",
        "df['player_clutch_win_perc_avg_diff'] = df['t1_player_clutch_win_perc_avg'] - df['t2_player_clutch_win_perc_avg']\n",
        "df['player_clutch_win_perc_max_diff'] = df['t1_player_clutch_win_perc_max'] - df['t2_player_clutch_win_perc_max']\n",
        "df['player_clutch_win_perc_min_diff'] = df['t1_player_clutch_win_perc_min'] - df['t2_player_clutch_win_perc_min']\n",
        "\n",
        "df[['player_clutch_win_perc_avg_diff','player_clutch_win_perc_max_diff','player_clutch_win_perc_min_diff', 'winner']].head()\n"
      ]
    },
    {
      "cell_type": "markdown",
      "metadata": {
        "id": "xlYNW6FuYddo"
      },
      "source": [
        "Move \"winner\" to the end"
      ]
    },
    {
      "cell_type": "code",
      "execution_count": 333,
      "metadata": {
        "id": "mZ45WI5FAtz7"
      },
      "outputs": [],
      "source": [
        "cols = list(df.columns)\n",
        "cols.insert(len(cols), cols.pop(cols.index('winner')))\n",
        "df = df[cols]"
      ]
    },
    {
      "cell_type": "markdown",
      "metadata": {
        "id": "LpD7EiUdYNLf"
      },
      "source": [
        "Scale Data"
      ]
    },
    {
      "cell_type": "code",
      "execution_count": 334,
      "metadata": {
        "id": "5jeiZXpSDQPW"
      },
      "outputs": [],
      "source": [
        "def scale_dataset(dataframe, oversample=False):\n",
        "  X = dataframe[dataframe.columns[:-1]].values\n",
        "  y = dataframe[dataframe.columns[-1]].values\n",
        "\n",
        "  scaler = StandardScaler()\n",
        "  X = scaler.fit_transform(X)\n",
        "\n",
        "  if oversample:\n",
        "    ros = RandomOverSampler()\n",
        "    X, y = ros.fit_resample(X, y)\n",
        "\n",
        "  data = pd.DataFrame(np.hstack((X, np.reshape(y, (-1, 1)))),columns=dataframe.columns)\n",
        "\n",
        "  return data"
      ]
    },
    {
      "cell_type": "code",
      "execution_count": 335,
      "metadata": {
        "colab": {
          "base_uri": "https://localhost:8080/",
          "height": 256
        },
        "id": "KpR-90CaYMu1",
        "outputId": "ed5db62d-9bf6-4f54-dd1c-82c57b2cbb16"
      },
      "outputs": [
        {
          "data": {
            "text/html": [
              "<div>\n",
              "<style scoped>\n",
              "    .dataframe tbody tr th:only-of-type {\n",
              "        vertical-align: middle;\n",
              "    }\n",
              "\n",
              "    .dataframe tbody tr th {\n",
              "        vertical-align: top;\n",
              "    }\n",
              "\n",
              "    .dataframe thead th {\n",
              "        text-align: right;\n",
              "    }\n",
              "</style>\n",
              "<table border=\"1\" class=\"dataframe\">\n",
              "  <thead>\n",
              "    <tr style=\"text-align: right;\">\n",
              "      <th></th>\n",
              "      <th>t1_world_rank</th>\n",
              "      <th>t2_world_rank</th>\n",
              "      <th>t1_h2h_win_perc</th>\n",
              "      <th>t2_h2h_win_perc</th>\n",
              "      <th>t1_player1_rating</th>\n",
              "      <th>t1_player1_impact</th>\n",
              "      <th>t1_player1_kdr</th>\n",
              "      <th>t1_player1_dmr</th>\n",
              "      <th>t1_player1_kpr</th>\n",
              "      <th>t1_player1_apr</th>\n",
              "      <th>...</th>\n",
              "      <th>t1_player_clutch_win_perc_avg</th>\n",
              "      <th>t2_player_clutch_win_perc_avg</th>\n",
              "      <th>t1_player_clutch_win_perc_max</th>\n",
              "      <th>t2_player_clutch_win_perc_max</th>\n",
              "      <th>t1_player_clutch_win_perc_min</th>\n",
              "      <th>t2_player_clutch_win_perc_min</th>\n",
              "      <th>player_clutch_win_perc_avg_diff</th>\n",
              "      <th>player_clutch_win_perc_max_diff</th>\n",
              "      <th>player_clutch_win_perc_min_diff</th>\n",
              "      <th>winner</th>\n",
              "    </tr>\n",
              "  </thead>\n",
              "  <tbody>\n",
              "    <tr>\n",
              "      <th>0</th>\n",
              "      <td>0.030054</td>\n",
              "      <td>1.809946</td>\n",
              "      <td>-0.077581</td>\n",
              "      <td>0.077581</td>\n",
              "      <td>0.807303</td>\n",
              "      <td>0.561488</td>\n",
              "      <td>0.256619</td>\n",
              "      <td>1.048847</td>\n",
              "      <td>1.316437</td>\n",
              "      <td>0.534312</td>\n",
              "      <td>...</td>\n",
              "      <td>1.561234</td>\n",
              "      <td>0.733252</td>\n",
              "      <td>0.415774</td>\n",
              "      <td>-0.010151</td>\n",
              "      <td>1.456508</td>\n",
              "      <td>0.902079</td>\n",
              "      <td>0.594881</td>\n",
              "      <td>0.301273</td>\n",
              "      <td>0.451525</td>\n",
              "      <td>1</td>\n",
              "    </tr>\n",
              "    <tr>\n",
              "      <th>1</th>\n",
              "      <td>0.750788</td>\n",
              "      <td>0.029324</td>\n",
              "      <td>-0.077581</td>\n",
              "      <td>0.077581</td>\n",
              "      <td>0.364755</td>\n",
              "      <td>0.089673</td>\n",
              "      <td>1.233270</td>\n",
              "      <td>-0.785800</td>\n",
              "      <td>0.145535</td>\n",
              "      <td>-0.751776</td>\n",
              "      <td>...</td>\n",
              "      <td>0.486626</td>\n",
              "      <td>-1.813220</td>\n",
              "      <td>-0.009776</td>\n",
              "      <td>-1.696377</td>\n",
              "      <td>0.502657</td>\n",
              "      <td>-0.871935</td>\n",
              "      <td>1.616698</td>\n",
              "      <td>1.194758</td>\n",
              "      <td>1.016282</td>\n",
              "      <td>1</td>\n",
              "    </tr>\n",
              "    <tr>\n",
              "      <th>2</th>\n",
              "      <td>0.570604</td>\n",
              "      <td>0.563511</td>\n",
              "      <td>-0.077581</td>\n",
              "      <td>0.077581</td>\n",
              "      <td>-0.077794</td>\n",
              "      <td>1.788205</td>\n",
              "      <td>-0.720032</td>\n",
              "      <td>0.341513</td>\n",
              "      <td>0.145535</td>\n",
              "      <td>-0.323080</td>\n",
              "      <td>...</td>\n",
              "      <td>-1.815674</td>\n",
              "      <td>0.474635</td>\n",
              "      <td>-1.772768</td>\n",
              "      <td>-0.010151</td>\n",
              "      <td>-0.928120</td>\n",
              "      <td>0.494056</td>\n",
              "      <td>-1.622327</td>\n",
              "      <td>-1.246711</td>\n",
              "      <td>-1.065008</td>\n",
              "      <td>0</td>\n",
              "    </tr>\n",
              "    <tr>\n",
              "      <th>3</th>\n",
              "      <td>-0.510496</td>\n",
              "      <td>0.029324</td>\n",
              "      <td>-0.441980</td>\n",
              "      <td>0.441980</td>\n",
              "      <td>0.069722</td>\n",
              "      <td>-0.570867</td>\n",
              "      <td>0.256619</td>\n",
              "      <td>0.407826</td>\n",
              "      <td>-0.088646</td>\n",
              "      <td>0.105616</td>\n",
              "      <td>...</td>\n",
              "      <td>1.441752</td>\n",
              "      <td>-1.813220</td>\n",
              "      <td>-0.199637</td>\n",
              "      <td>-1.696377</td>\n",
              "      <td>1.851676</td>\n",
              "      <td>-0.871935</td>\n",
              "      <td>2.295089</td>\n",
              "      <td>1.060467</td>\n",
              "      <td>2.042061</td>\n",
              "      <td>0</td>\n",
              "    </tr>\n",
              "    <tr>\n",
              "      <th>4</th>\n",
              "      <td>-0.870862</td>\n",
              "      <td>1.809946</td>\n",
              "      <td>-0.077581</td>\n",
              "      <td>0.077581</td>\n",
              "      <td>0.069722</td>\n",
              "      <td>-0.193415</td>\n",
              "      <td>-0.187313</td>\n",
              "      <td>-0.188987</td>\n",
              "      <td>0.145535</td>\n",
              "      <td>0.534312</td>\n",
              "      <td>...</td>\n",
              "      <td>0.205811</td>\n",
              "      <td>0.733252</td>\n",
              "      <td>-0.265106</td>\n",
              "      <td>-0.010151</td>\n",
              "      <td>-0.147696</td>\n",
              "      <td>0.902079</td>\n",
              "      <td>-0.367829</td>\n",
              "      <td>-0.180322</td>\n",
              "      <td>-0.768295</td>\n",
              "      <td>0</td>\n",
              "    </tr>\n",
              "  </tbody>\n",
              "</table>\n",
              "<p>5 rows × 295 columns</p>\n",
              "</div>"
            ],
            "text/plain": [
              "   t1_world_rank  t2_world_rank  t1_h2h_win_perc  t2_h2h_win_perc  \\\n",
              "0       0.030054       1.809946        -0.077581         0.077581   \n",
              "1       0.750788       0.029324        -0.077581         0.077581   \n",
              "2       0.570604       0.563511        -0.077581         0.077581   \n",
              "3      -0.510496       0.029324        -0.441980         0.441980   \n",
              "4      -0.870862       1.809946        -0.077581         0.077581   \n",
              "\n",
              "   t1_player1_rating  t1_player1_impact  t1_player1_kdr  t1_player1_dmr  \\\n",
              "0           0.807303           0.561488        0.256619        1.048847   \n",
              "1           0.364755           0.089673        1.233270       -0.785800   \n",
              "2          -0.077794           1.788205       -0.720032        0.341513   \n",
              "3           0.069722          -0.570867        0.256619        0.407826   \n",
              "4           0.069722          -0.193415       -0.187313       -0.188987   \n",
              "\n",
              "   t1_player1_kpr  t1_player1_apr  ...  t1_player_clutch_win_perc_avg  \\\n",
              "0        1.316437        0.534312  ...                       1.561234   \n",
              "1        0.145535       -0.751776  ...                       0.486626   \n",
              "2        0.145535       -0.323080  ...                      -1.815674   \n",
              "3       -0.088646        0.105616  ...                       1.441752   \n",
              "4        0.145535        0.534312  ...                       0.205811   \n",
              "\n",
              "   t2_player_clutch_win_perc_avg  t1_player_clutch_win_perc_max  \\\n",
              "0                       0.733252                       0.415774   \n",
              "1                      -1.813220                      -0.009776   \n",
              "2                       0.474635                      -1.772768   \n",
              "3                      -1.813220                      -0.199637   \n",
              "4                       0.733252                      -0.265106   \n",
              "\n",
              "   t2_player_clutch_win_perc_max  t1_player_clutch_win_perc_min  \\\n",
              "0                      -0.010151                       1.456508   \n",
              "1                      -1.696377                       0.502657   \n",
              "2                      -0.010151                      -0.928120   \n",
              "3                      -1.696377                       1.851676   \n",
              "4                      -0.010151                      -0.147696   \n",
              "\n",
              "   t2_player_clutch_win_perc_min  player_clutch_win_perc_avg_diff  \\\n",
              "0                       0.902079                         0.594881   \n",
              "1                      -0.871935                         1.616698   \n",
              "2                       0.494056                        -1.622327   \n",
              "3                      -0.871935                         2.295089   \n",
              "4                       0.902079                        -0.367829   \n",
              "\n",
              "   player_clutch_win_perc_max_diff  player_clutch_win_perc_min_diff  winner  \n",
              "0                         0.301273                         0.451525       1  \n",
              "1                         1.194758                         1.016282       1  \n",
              "2                        -1.246711                        -1.065008       0  \n",
              "3                         1.060467                         2.042061       0  \n",
              "4                        -0.180322                        -0.768295       0  \n",
              "\n",
              "[5 rows x 295 columns]"
            ]
          },
          "execution_count": 335,
          "metadata": {},
          "output_type": "execute_result"
        }
      ],
      "source": [
        "df = scale_dataset(df)\n",
        "df['winner']=df['winner'].astype(int)\n",
        "df.head()"
      ]
    },
    {
      "cell_type": "markdown",
      "metadata": {
        "id": "RTsw9fR6eOBp"
      },
      "source": [
        "Correlational Analysis"
      ]
    },
    {
      "cell_type": "code",
      "execution_count": 336,
      "metadata": {
        "colab": {
          "base_uri": "https://localhost:8080/"
        },
        "id": "yhjmrxlqeMX6",
        "outputId": "78b51ac0-1e9d-4993-fe10-b6a2002eef72"
      },
      "outputs": [
        {
          "name": "stdout",
          "output_type": "stream",
          "text": [
            "winner                                      1.000000\n",
            "player_kdr_avg_diff                         0.202436\n",
            "player_rating_avg_diff                      0.195169\n",
            "player_dpr_avg_diff                         0.193772\n",
            "player_dmr_avg_diff                         0.189684\n",
            "rank_difference                             0.189229\n",
            "player_impact_avg_diff                      0.187675\n",
            "player_rating_at_least_one_perc_avg_diff    0.187475\n",
            "player_kpr_avg_diff                         0.184984\n",
            "player_multikill_perc_avg_diff              0.179705\n",
            "player_dpr_max_diff                         0.161167\n",
            "player_dpr_min_diff                         0.154655\n",
            "t1_player_kdr_avg                           0.150212\n",
            "player_kdr_min_diff                         0.147314\n",
            "player_rating_min_diff                      0.146171\n",
            "t1_world_rank                               0.142430\n",
            "player_kdr_max_diff                         0.141652\n",
            "player_wins_perc_after_fk_avg_diff          0.141477\n",
            "t1_player_dpr_avg                           0.139667\n",
            "player_rating_at_least_one_perc_max_diff    0.138146\n",
            "player_opk_rating_avg_diff                  0.135909\n",
            "player_rating_max_diff                      0.134782\n",
            "t1_player_rating_avg                        0.133253\n",
            "t1_player_impact_avg                        0.133207\n",
            "t1_player_rating_at_least_one_perc_avg      0.132827\n",
            "player_rating_at_least_one_perc_min_diff    0.129388\n",
            "t2_player_kdr_avg                           0.129244\n",
            "player_dmr_min_diff                         0.126963\n",
            "t1_player_dmr_avg                           0.125182\n",
            "player_opk_ratio_avg_diff                   0.124753\n",
            "player_impact_max_diff                      0.123558\n",
            "t2_player_rating_at_least_one_perc_avg      0.122501\n",
            "t1_player_dpr_max                           0.121695\n",
            "t2_player_rating_avg                        0.121626\n",
            "t1_player_multikill_perc_avg                0.121503\n",
            "t1_player_kpr_avg                           0.120850\n",
            "t1_player4_kdr                              0.119469\n",
            "t1_player4_rating                           0.116987\n",
            "player_impact_min_diff                      0.116192\n",
            "t1_player_dpr_min                           0.115628\n",
            "t2_world_rank                               0.114264\n",
            "t2_h2h_win_perc                             0.113926\n",
            "t1_h2h_win_perc                             0.113926\n",
            "player_multikill_perc_min_diff              0.113483\n",
            "t2_player_dpr_avg                           0.113384\n",
            "t2_player_impact_avg                        0.113258\n",
            "t1_player_kdr_min                           0.112613\n",
            "t1_player3_kdr                              0.112567\n",
            "t2_player_kpr_avg                           0.111174\n",
            "player_opk_rating_max_diff                  0.110553\n",
            "player_kpr_min_diff                         0.109858\n",
            "t1_player_rating_min                        0.109221\n",
            "t1_player5_rating                           0.109221\n",
            "t1_player2_kdr                              0.108888\n",
            "player_opk_ratio_min_diff                   0.107483\n",
            "t1_player_kdr_max                           0.107198\n",
            "t1_player5_kdr                              0.107106\n",
            "player_wins_perc_after_fk_max_diff          0.106830\n",
            "t1_player3_rating                           0.106224\n",
            "player_kpr_max_diff                         0.105773\n",
            "t1_player_rating_at_least_one_perc_max      0.104816\n",
            "t2_player_dmr_avg                           0.104445\n",
            "t2_player_multikill_perc_avg                0.103991\n",
            "t1_player5_rating_at_least_one_perc         0.103970\n",
            "t1_player_dmr_min                           0.103865\n",
            "t1_player_rating_at_least_one_perc_min      0.103687\n",
            "t2_player2_kdr                              0.103369\n",
            "t1_player2_rating_at_least_one_perc         0.103303\n",
            "t1_player2_rating                           0.103151\n",
            "t1_player_opk_rating_avg                    0.102938\n",
            "t2_player4_rating_at_least_one_perc         0.102315\n",
            "t2_player4_rating                           0.102085\n",
            "t1_player_impact_min                        0.100887\n",
            "t1_player4_rating_at_least_one_perc         0.100531\n",
            "t2_player2_rating                           0.100147\n",
            "t1_player1_kdr                              0.100098\n",
            "t2_player3_kdr                              0.099938\n",
            "t2_player2_rating_at_least_one_perc         0.099052\n",
            "t1_player_opk_ratio_min                     0.098822\n",
            "t2_player3_rating                           0.098267\n",
            "t2_player3_rating_at_least_one_perc         0.097765\n",
            "t1_player2_dpr                              0.097763\n",
            "t1_player1_rating                           0.097314\n",
            "t1_player_rating_max                        0.097314\n",
            "t1_player_opk_ratio_avg                     0.096306\n",
            "t2_player_wins_perc_after_fk_avg            0.096281\n",
            "t1_player_wins_perc_after_fk_avg            0.096216\n",
            "t1_player1_rating_at_least_one_perc         0.095923\n",
            "t2_player_dpr_max                           0.095772\n",
            "t2_player4_kdr                              0.095177\n",
            "player_multikill_perc_max_diff              0.095136\n",
            "player_wins_perc_after_fk_min_diff          0.094452\n",
            "t1_player3_rating_at_least_one_perc         0.093749\n",
            "t2_player_kdr_min                           0.093124\n",
            "t1_player3_dpr                              0.093048\n",
            "t1_player4_dpr                              0.093039\n",
            "t2_player5_rating                           0.092223\n",
            "t2_player_rating_min                        0.092223\n",
            "t2_player_dpr_min                           0.091774\n",
            "t2_player_kdr_max                           0.090793\n",
            "t2_player_impact_max                        0.090113\n",
            "t1_player1_wins_perc_after_fk               0.089475\n",
            "t2_player5_kdr                              0.089434\n",
            "t2_player1_rating                           0.089326\n",
            "t2_player_rating_max                        0.089326\n",
            "t2_player_opk_rating_avg                    0.088974\n",
            "t2_player_opk_rating_max                    0.088296\n",
            "t2_player1_wins_perc_after_fk               0.087702\n",
            "t2_player3_dpr                              0.087260\n",
            "t2_player_rating_at_least_one_perc_max      0.087050\n",
            "t2_player1_rating_at_least_one_perc         0.086907\n",
            "t1_player5_dmr                              0.086752\n",
            "t1_player4_kpr                              0.086126\n",
            "t1_player5_dpr                              0.085705\n",
            "t1_player_impact_max                        0.084527\n",
            "t1_player_multikill_perc_min                0.084518\n",
            "t1_player1_dpr                              0.084219\n",
            "t2_player_wins_perc_after_fk_max            0.083699\n",
            "t2_player_opk_ratio_avg                     0.081139\n",
            "t1_player5_impact                           0.079956\n",
            "t1_player_kpr_min                           0.079722\n",
            "t1_player5_multikill_perc                   0.079481\n",
            "t2_player1_kdr                              0.078421\n",
            "player_apr_avg_diff                         0.077796\n",
            "t1_player_kpr_max                           0.077179\n",
            "t1_player5_kpr                              0.076919\n",
            "t1_player4_impact                           0.076863\n",
            "player_dmr_max_diff                         0.076173\n",
            "t2_player_rating_at_least_one_perc_min      0.075937\n",
            "t2_player2_kpr                              0.075537\n",
            "t1_player3_multikill_perc                   0.075303\n",
            "t1_player4_multikill_perc                   0.075055\n",
            "t1_player4_dmr                              0.074689\n",
            "t2_player1_impact                           0.073747\n",
            "player_opk_ratio_max_diff                   0.073519\n",
            "t2_player5_rating_at_least_one_perc         0.073343\n",
            "t2_player1_opk_rating                       0.072237\n",
            "t1_player3_kpr                              0.071910\n",
            "t1_player_multikill_perc_max                0.071549\n",
            "t2_player_dmr_min                           0.071369\n",
            "t1_player_opk_rating_max                    0.071260\n",
            "t2_player5_dpr                              0.071096\n",
            "t1_player3_impact                           0.070852\n",
            "t2_player2_dpr                              0.070844\n",
            "t2_player4_kpr                              0.070730\n",
            "t2_player_multikill_perc_min                0.070702\n",
            "t2_player_kpr_max                           0.070569\n",
            "t1_player1_kpr                              0.070443\n",
            "t2_player_kpr_min                           0.070039\n",
            "t2_player4_dmr                              0.068847\n",
            "t1_player_opk_rating_min                    0.068565\n",
            "player_opk_rating_min_diff                  0.067118\n",
            "t2_player5_kpr                              0.067071\n",
            "t1_player_wins_perc_after_fk_min            0.066706\n",
            "t1_player3_wins_perc_after_fk               0.066530\n",
            "t2_player4_dpr                              0.065796\n",
            "t1_player_wins_perc_after_fk_max            0.065340\n",
            "t2_player5_dmr                              0.065119\n",
            "t1_player1_multikill_perc                   0.064986\n",
            "t2_player1_kpr                              0.064899\n",
            "t1_player1_impact                           0.064897\n",
            "t2_player4_multikill_perc                   0.064768\n",
            "t2_player5_multikill_perc                   0.063872\n",
            "t2_player4_impact                           0.062525\n",
            "t2_player1_dpr                              0.061980\n",
            "t2_player2_impact                           0.061793\n",
            "t2_player_wins_perc_after_fk_min            0.061473\n",
            "t2_player_multikill_perc_max                0.060216\n",
            "t2_player_impact_min                        0.060022\n",
            "t2_player2_multikill_perc                   0.059567\n",
            "t1_player1_dmr                              0.058835\n",
            "t2_player_opk_ratio_max                     0.058553\n",
            "t2_player3_kpr                              0.058462\n",
            "t1_player_dmr_max                           0.058369\n",
            "t1_player3_opk_ratio                        0.057845\n",
            "t2_player1_opk_ratio                        0.057839\n",
            "t1_player2_kpr                              0.057816\n",
            "t2_player4_wins_perc_after_fk               0.055986\n",
            "t2_player_apr_avg                           0.054977\n",
            "t2_player1_spr                              0.054333\n",
            "t1_player2_impact                           0.053862\n",
            "t2_player1_multikill_perc                   0.053582\n",
            "t1_player2_wins_perc_after_fk               0.053321\n",
            "t2_player3_wins_perc_after_fk               0.053149\n",
            "t2_player5_impact                           0.053101\n",
            "t2_player3_multikill_perc                   0.052817\n",
            "t1_player2_dmr                              0.052427\n",
            "player_apr_max_diff                         0.051981\n",
            "t1_player5_apr                              0.051878\n",
            "t2_player1_fk_perc_in_wins                  0.050166\n",
            "t1_player2_multikill_perc                   0.050054\n",
            "t2_player_opk_ratio_min                     0.049842\n",
            "t1_player4_wins_perc_after_fk               0.048838\n",
            "t1_player3_opk_rating                       0.048620\n",
            "t2_player_dmr_max                           0.048338\n",
            "t1_player4_opk_ratio                        0.047877\n",
            "t2_player3_dmr                              0.046784\n",
            "t1_player_apr_avg                           0.046686\n",
            "t2_player5_wins_perc_after_fk               0.046239\n",
            "player_spr_max_diff                         0.045209\n",
            "t1_player_opk_ratio_max                     0.044890\n",
            "t2_player2_wins_perc_after_fk               0.044681\n",
            "t1_player1_spr                              0.044544\n",
            "t1_player1_opk_ratio                        0.043984\n",
            "t1_player5_opk_ratio                        0.043972\n",
            "t2_player1_dmr                              0.043220\n",
            "t1_player3_dmr                              0.042104\n",
            "t1_player_spr_avg                           0.041715\n",
            "t2_player4_opk_ratio                        0.040596\n",
            "t2_player2_dmr                              0.040559\n",
            "t1_player5_opk_rating                       0.040424\n",
            "player_spr_avg_diff                         0.040317\n",
            "t1_player4_opk_rating                       0.039341\n",
            "t1_player2_opk_ratio                        0.038685\n",
            "t1_player1_opk_rating                       0.038664\n",
            "t2_player_apr_max                           0.038361\n",
            "t2_player3_impact                           0.038045\n",
            "t1_player2_apr                              0.037543\n",
            "t1_player_spr_max                           0.037455\n",
            "player_apr_min_diff                         0.036523\n",
            "t2_player5_apr                              0.036402\n",
            "t2_player2_opk_ratio                        0.036351\n",
            "t2_player2_opk_rating                       0.036313\n",
            "t2_player1_is_sniper                        0.036219\n",
            "t2_player3_opk_ratio                        0.034571\n",
            "t1_player5_clutch_win_perc                  0.034063\n",
            "t1_player5_wins_perc_after_fk               0.033953\n",
            "t2_player4_apr                              0.033186\n",
            "t1_player_apr_max                           0.033143\n",
            "t2_player3_apr                              0.032528\n",
            "t1_player3_is_sniper                        0.029904\n",
            "t2_player_apr_min                           0.029717\n",
            "t2_player_spr_max                           0.026389\n",
            "t2_player3_clutch_win_perc                  0.026341\n",
            "t2_player_opk_rating_min                    0.026149\n",
            "t2_player4_opk_rating                       0.025959\n",
            "t2_player5_is_sniper                        0.025837\n",
            "t1_player2_clutch_win_perc                  0.025626\n",
            "t2_player3_fk_perc_in_wins                  0.024875\n",
            "t2_player4_clutch_win_perc                  0.024604\n",
            "t1_player3_spr                              0.024048\n",
            "t1_player2_opk_rating                       0.023937\n",
            "t1_player5_spr                              0.023404\n",
            "t1_player2_is_sniper                        0.020926\n",
            "t2_player5_fk_perc_in_wins                  0.020819\n",
            "t2_player2_clutch_win_perc                  0.020513\n",
            "player_spr_min_diff                         0.019725\n",
            "t1_player_apr_min                           0.018967\n",
            "t1_player4_apr                              0.018858\n",
            "t2_player5_spr                              0.018288\n",
            "t2_player2_is_sniper                        0.017952\n",
            "t1_player3_fk_perc_in_wins                  0.017200\n",
            "t1_player1_clutch_win_perc                  0.015659\n",
            "t2_player5_opk_ratio                        0.015640\n",
            "t1_player1_fk_perc_in_wins                  0.015450\n",
            "t1_player_spr_min                           0.015353\n",
            "t1_player4_clutch_win_perc                  0.014760\n",
            "t2_player2_apr                              0.014244\n",
            "t2_player_spr_avg                           0.014215\n",
            "t1_player5_is_sniper                        0.013525\n",
            "snipper_difference                          0.013425\n",
            "t2_player_spr_min                           0.012025\n",
            "t2_player5_clutch_win_perc                  0.011855\n",
            "t2_player3_is_sniper                        0.011473\n",
            "t1_player2_spr                              0.011024\n",
            "t2_player5_opk_rating                       0.010559\n",
            "t2_player1_apr                              0.010296\n",
            "t1_player4_spr                              0.010075\n",
            "t2_snipers                                  0.010049\n",
            "t2_player3_opk_rating                       0.010023\n",
            "t1_snipers                                  0.008873\n",
            "t2_player2_fk_perc_in_wins                  0.007764\n",
            "t2_player_clutch_win_perc_min               0.006941\n",
            "t1_player4_is_sniper                        0.006646\n",
            "t2_player3_spr                              0.006447\n",
            "t1_player2_fk_perc_in_wins                  0.005929\n",
            "player_clutch_win_perc_min_diff             0.005802\n",
            "t2_player2_spr                              0.005731\n",
            "t2_player4_fk_perc_in_wins                  0.005480\n",
            "t2_player_clutch_win_perc_max               0.005239\n",
            "t1_player_clutch_win_perc_avg               0.004568\n",
            "t1_player1_is_sniper                        0.004513\n",
            "t1_player_clutch_win_perc_max               0.004327\n",
            "t2_player4_is_sniper                        0.004086\n",
            "t2_player_clutch_win_perc_avg               0.003450\n",
            "t1_player3_apr                              0.002679\n",
            "t1_player1_apr                              0.001855\n",
            "t2_player1_clutch_win_perc                  0.001310\n",
            "t1_player_clutch_win_perc_min               0.000992\n",
            "player_clutch_win_perc_avg_diff             0.000826\n",
            "t1_player4_fk_perc_in_wins                  0.000751\n",
            "player_clutch_win_perc_max_diff             0.000651\n",
            "t2_player4_spr                              0.000620\n",
            "t1_player3_clutch_win_perc                  0.000461\n",
            "t1_player5_fk_perc_in_wins                  0.000231\n",
            "Name: winner, dtype: float64\n"
          ]
        }
      ],
      "source": [
        "correlations = df.corr()['winner'].abs().sort_values(ascending=False)\n",
        "pd.set_option('display.max_rows', 500)\n",
        "print(correlations)"
      ]
    },
    {
      "cell_type": "markdown",
      "metadata": {
        "id": "5Vshte5yeCjA"
      },
      "source": [
        "K-means clustering"
      ]
    },
    {
      "cell_type": "code",
      "execution_count": 337,
      "metadata": {
        "colab": {
          "base_uri": "https://localhost:8080/"
        },
        "id": "5Blduiwlesxa",
        "outputId": "2da2ac9c-af92-4bda-d231-4f0289a78c27"
      },
      "outputs": [
        {
          "name": "stdout",
          "output_type": "stream",
          "text": [
            "(1945, 295)\n",
            "(1838, 295)\n"
          ]
        }
      ],
      "source": [
        "df_t1 = df[df['winner'] == 0]\n",
        "df_t2 = df[df['winner'] == 1]\n",
        "print(df_t1.shape)\n",
        "print(df_t2.shape)"
      ]
    },
    {
      "cell_type": "code",
      "execution_count": 338,
      "metadata": {
        "colab": {
          "base_uri": "https://localhost:8080/"
        },
        "id": "K5TjhAaKeFfy",
        "outputId": "2b02e0f3-1da3-4b37-efbd-a0d4f3e38aa5"
      },
      "outputs": [
        {
          "name": "stderr",
          "output_type": "stream",
          "text": [
            "/var/folders/vl/3q9b07611gqby1x98vqdh4dr0000gn/T/ipykernel_81918/3609911823.py:7: SettingWithCopyWarning: \n",
            "A value is trying to be set on a copy of a slice from a DataFrame.\n",
            "Try using .loc[row_indexer,col_indexer] = value instead\n",
            "\n",
            "See the caveats in the documentation: https://pandas.pydata.org/pandas-docs/stable/user_guide/indexing.html#returning-a-view-versus-a-copy\n",
            "  df_t1['cluster'] = kmeans.fit_predict(X)\n",
            "/var/folders/vl/3q9b07611gqby1x98vqdh4dr0000gn/T/ipykernel_81918/3609911823.py:14: SettingWithCopyWarning: \n",
            "A value is trying to be set on a copy of a slice from a DataFrame.\n",
            "Try using .loc[row_indexer,col_indexer] = value instead\n",
            "\n",
            "See the caveats in the documentation: https://pandas.pydata.org/pandas-docs/stable/user_guide/indexing.html#returning-a-view-versus-a-copy\n",
            "  df_t1['outlier'] = outliers\n"
          ]
        }
      ],
      "source": [
        "# Step 1: Select features for clustering\n",
        "features_for_clustering = ['rank_difference', 'player_rating_avg_diff', 't1_h2h_win_perc', 'player_wins_perc_after_fk_avg_diff','winner']\n",
        "X = df_t1[features_for_clustering]\n",
        "\n",
        "# Step 2: Scale the features and perform k-means clustering\n",
        "kmeans = KMeans(n_clusters=3, random_state=42)\n",
        "df_t1['cluster'] = kmeans.fit_predict(X)\n",
        "\n",
        "# Step 3: Identify outliers (example method)\n",
        "distances = cdist(X, kmeans.cluster_centers_, 'euclidean')\n",
        "min_distances = distances.min(axis=1)\n",
        "threshold = min_distances.mean() + min_distances.std() # Example threshold\n",
        "outliers = min_distances > threshold\n",
        "df_t1['outlier'] = outliers"
      ]
    },
    {
      "cell_type": "code",
      "execution_count": 339,
      "metadata": {
        "colab": {
          "base_uri": "https://localhost:8080/"
        },
        "id": "aMGDsltgezM5",
        "outputId": "4cbb0444-6ec5-40a7-ebca-1646976d15b5"
      },
      "outputs": [
        {
          "name": "stdout",
          "output_type": "stream",
          "text": [
            "272\n"
          ]
        }
      ],
      "source": [
        "num_outliers = df_t1['outlier'].sum()\n",
        "print(num_outliers)\n",
        "df_t1_filtered = df_t1[~df_t1['outlier']]"
      ]
    },
    {
      "cell_type": "code",
      "execution_count": 340,
      "metadata": {
        "colab": {
          "base_uri": "https://localhost:8080/"
        },
        "id": "s3G8XjrJe9kw",
        "outputId": "89f7a484-3f11-4197-b37f-f51d46ed2b77"
      },
      "outputs": [
        {
          "name": "stderr",
          "output_type": "stream",
          "text": [
            "/var/folders/vl/3q9b07611gqby1x98vqdh4dr0000gn/T/ipykernel_81918/3940958087.py:7: SettingWithCopyWarning: \n",
            "A value is trying to be set on a copy of a slice from a DataFrame.\n",
            "Try using .loc[row_indexer,col_indexer] = value instead\n",
            "\n",
            "See the caveats in the documentation: https://pandas.pydata.org/pandas-docs/stable/user_guide/indexing.html#returning-a-view-versus-a-copy\n",
            "  df_t2['cluster'] = kmeans.fit_predict(X)\n",
            "/var/folders/vl/3q9b07611gqby1x98vqdh4dr0000gn/T/ipykernel_81918/3940958087.py:14: SettingWithCopyWarning: \n",
            "A value is trying to be set on a copy of a slice from a DataFrame.\n",
            "Try using .loc[row_indexer,col_indexer] = value instead\n",
            "\n",
            "See the caveats in the documentation: https://pandas.pydata.org/pandas-docs/stable/user_guide/indexing.html#returning-a-view-versus-a-copy\n",
            "  df_t2['outlier'] = outliers\n"
          ]
        }
      ],
      "source": [
        "# Step 1: Select features for clustering\n",
        "features_for_clustering = ['rank_difference', 'player_rating_avg_diff', 't1_h2h_win_perc','player_wins_perc_after_fk_avg_diff', 'winner']\n",
        "X = df_t2[features_for_clustering]\n",
        "\n",
        "# Step 2: Scale the features and perform k-means clustering\n",
        "kmeans = KMeans(n_clusters=3, random_state=42)\n",
        "df_t2['cluster'] = kmeans.fit_predict(X)\n",
        "\n",
        "# Step 3: Identify outliers (example method)\n",
        "distances = cdist(X, kmeans.cluster_centers_, 'euclidean')\n",
        "min_distances = distances.min(axis=1)\n",
        "threshold = min_distances.mean() + min_distances.std() # Example threshold\n",
        "outliers = min_distances > threshold\n",
        "df_t2['outlier'] = outliers"
      ]
    },
    {
      "cell_type": "code",
      "execution_count": 341,
      "metadata": {
        "colab": {
          "base_uri": "https://localhost:8080/"
        },
        "id": "wTpRasE7fCAV",
        "outputId": "c804e958-156d-4b3b-a1bd-51539946168e"
      },
      "outputs": [
        {
          "name": "stdout",
          "output_type": "stream",
          "text": [
            "288\n"
          ]
        }
      ],
      "source": [
        "num_outliers = df_t2['outlier'].sum()\n",
        "print(num_outliers)\n",
        "df_t2_filtered = df_t2[~df_t2['outlier']]"
      ]
    },
    {
      "cell_type": "code",
      "execution_count": 342,
      "metadata": {
        "id": "me21RK6yfIti"
      },
      "outputs": [],
      "source": [
        "df = pd.concat([df_t1_filtered, df_t2_filtered], ignore_index=True)\n",
        "df = df.drop('cluster', axis=1)\n",
        "df = df.drop('outlier', axis=1)"
      ]
    },
    {
      "cell_type": "markdown",
      "metadata": {
        "id": "ILPvF-_IV_vY"
      },
      "source": [
        "PCA"
      ]
    },
    {
      "cell_type": "code",
      "execution_count": 343,
      "metadata": {
        "colab": {
          "base_uri": "https://localhost:8080/",
          "height": 487
        },
        "id": "0scNtqHYWBLC",
        "outputId": "e0d5ff22-ca4b-466f-96ce-13d50c3e6030"
      },
      "outputs": [
        {
          "data": {
            "image/png": "[encoded data removed]",
            "text/plain": [
              "<Figure size 800x500 with 1 Axes>"
            ]
          },
          "metadata": {},
          "output_type": "display_data"
        }
      ],
      "source": [
        "pca = PCA()\n",
        "pca.fit(df)\n",
        "pca_data=pca.transform(df)\n",
        "\n",
        "plt.figure(figsize=(8, 5))\n",
        "plt.plot(np.cumsum(pca.explained_variance_ratio_))\n",
        "plt.xlabel('Number of Components')\n",
        "plt.ylabel('Cumulative Explained Variance')\n",
        "plt.title('Cumulative Explained Variance by Number of Components')\n",
        "plt.show()\n",
        "\n"
      ]
    },
    {
      "cell_type": "code",
      "execution_count": 344,
      "metadata": {
        "colab": {
          "base_uri": "https://localhost:8080/",
          "height": 564
        },
        "id": "1qb05Swj1PZh",
        "outputId": "4118c8ec-1f88-42d4-c18b-0e87e33d77ca"
      },
      "outputs": [
        {
          "data": {
            "image/png": "[encoded data removed]",
            "text/plain": [
              "<Figure size 800x600 with 1 Axes>"
            ]
          },
          "metadata": {},
          "output_type": "display_data"
        }
      ],
      "source": [
        "pca = PCA(n_components=2)\n",
        "pca_data = pca.fit_transform(df)\n",
        "\n",
        "plt.figure(figsize=(8, 6))\n",
        "plt.scatter(pca_data[:, 0], pca_data[:, 1], c=df['winner'], cmap='plasma')\n",
        "plt.xlabel('First principal component')\n",
        "plt.ylabel('Second principal component')\n",
        "plt.title('PCA of CS:GO data')\n",
        "plt.show()"
      ]
    },
    {
      "cell_type": "markdown",
      "metadata": {
        "id": "i-_9GuEJftGw"
      },
      "source": [
        "Remove highly correlated features"
      ]
    },
    {
      "cell_type": "code",
      "execution_count": 345,
      "metadata": {
        "colab": {
          "base_uri": "https://localhost:8080/",
          "height": 256
        },
        "id": "JeSn5L1chqoV",
        "outputId": "d776bb4c-4715-4119-82b1-3b61d533155e"
      },
      "outputs": [
        {
          "data": {
            "text/html": [
              "<div>\n",
              "<style scoped>\n",
              "    .dataframe tbody tr th:only-of-type {\n",
              "        vertical-align: middle;\n",
              "    }\n",
              "\n",
              "    .dataframe tbody tr th {\n",
              "        vertical-align: top;\n",
              "    }\n",
              "\n",
              "    .dataframe thead th {\n",
              "        text-align: right;\n",
              "    }\n",
              "</style>\n",
              "<table border=\"1\" class=\"dataframe\">\n",
              "  <thead>\n",
              "    <tr style=\"text-align: right;\">\n",
              "      <th></th>\n",
              "      <th>t1_world_rank</th>\n",
              "      <th>t2_world_rank</th>\n",
              "      <th>t1_h2h_win_perc</th>\n",
              "      <th>t1_player1_rating</th>\n",
              "      <th>t1_player1_dmr</th>\n",
              "      <th>t1_player1_apr</th>\n",
              "      <th>t1_player1_spr</th>\n",
              "      <th>t1_player1_opk_ratio</th>\n",
              "      <th>t1_player1_wins_perc_after_fk</th>\n",
              "      <th>t1_player1_is_sniper</th>\n",
              "      <th>...</th>\n",
              "      <th>player_wins_perc_after_fk_avg_diff</th>\n",
              "      <th>player_wins_perc_after_fk_max_diff</th>\n",
              "      <th>t1_player_clutch_win_perc_avg</th>\n",
              "      <th>t2_player_clutch_win_perc_avg</th>\n",
              "      <th>t1_player_clutch_win_perc_max</th>\n",
              "      <th>t2_player_clutch_win_perc_max</th>\n",
              "      <th>t1_player_clutch_win_perc_min</th>\n",
              "      <th>t2_player_clutch_win_perc_min</th>\n",
              "      <th>player_clutch_win_perc_min_diff</th>\n",
              "      <th>winner</th>\n",
              "    </tr>\n",
              "  </thead>\n",
              "  <tbody>\n",
              "    <tr>\n",
              "      <th>0</th>\n",
              "      <td>0.570604</td>\n",
              "      <td>0.563511</td>\n",
              "      <td>-0.077581</td>\n",
              "      <td>-0.077794</td>\n",
              "      <td>0.341513</td>\n",
              "      <td>-0.323080</td>\n",
              "      <td>-1.159974</td>\n",
              "      <td>-0.725623</td>\n",
              "      <td>-1.171127</td>\n",
              "      <td>-0.829509</td>\n",
              "      <td>...</td>\n",
              "      <td>-1.185168</td>\n",
              "      <td>-0.753146</td>\n",
              "      <td>-1.815674</td>\n",
              "      <td>0.474635</td>\n",
              "      <td>-1.772768</td>\n",
              "      <td>-0.010151</td>\n",
              "      <td>-0.928120</td>\n",
              "      <td>0.494056</td>\n",
              "      <td>-1.065008</td>\n",
              "      <td>0</td>\n",
              "    </tr>\n",
              "    <tr>\n",
              "      <th>1</th>\n",
              "      <td>-0.510496</td>\n",
              "      <td>0.029324</td>\n",
              "      <td>-0.441980</td>\n",
              "      <td>0.069722</td>\n",
              "      <td>0.407826</td>\n",
              "      <td>0.105616</td>\n",
              "      <td>0.006475</td>\n",
              "      <td>-0.689302</td>\n",
              "      <td>-0.137678</td>\n",
              "      <td>-0.829509</td>\n",
              "      <td>...</td>\n",
              "      <td>1.392539</td>\n",
              "      <td>1.142933</td>\n",
              "      <td>1.441752</td>\n",
              "      <td>-1.813220</td>\n",
              "      <td>-0.199637</td>\n",
              "      <td>-1.696377</td>\n",
              "      <td>1.851676</td>\n",
              "      <td>-0.871935</td>\n",
              "      <td>2.042061</td>\n",
              "      <td>0</td>\n",
              "    </tr>\n",
              "    <tr>\n",
              "      <th>2</th>\n",
              "      <td>-0.870862</td>\n",
              "      <td>1.809946</td>\n",
              "      <td>-0.077581</td>\n",
              "      <td>0.069722</td>\n",
              "      <td>-0.188987</td>\n",
              "      <td>0.534312</td>\n",
              "      <td>1.172924</td>\n",
              "      <td>-0.725623</td>\n",
              "      <td>0.126693</td>\n",
              "      <td>1.205532</td>\n",
              "      <td>...</td>\n",
              "      <td>-0.343908</td>\n",
              "      <td>-1.452889</td>\n",
              "      <td>0.205811</td>\n",
              "      <td>0.733252</td>\n",
              "      <td>-0.265106</td>\n",
              "      <td>-0.010151</td>\n",
              "      <td>-0.147696</td>\n",
              "      <td>0.902079</td>\n",
              "      <td>-0.768295</td>\n",
              "      <td>0</td>\n",
              "    </tr>\n",
              "    <tr>\n",
              "      <th>3</th>\n",
              "      <td>-0.150129</td>\n",
              "      <td>0.563511</td>\n",
              "      <td>-0.077581</td>\n",
              "      <td>-0.372826</td>\n",
              "      <td>0.385722</td>\n",
              "      <td>1.391703</td>\n",
              "      <td>0.006475</td>\n",
              "      <td>-0.616660</td>\n",
              "      <td>-0.017509</td>\n",
              "      <td>-0.829509</td>\n",
              "      <td>...</td>\n",
              "      <td>-0.850821</td>\n",
              "      <td>-0.098548</td>\n",
              "      <td>-0.504494</td>\n",
              "      <td>0.539498</td>\n",
              "      <td>-0.700869</td>\n",
              "      <td>-0.010151</td>\n",
              "      <td>0.172478</td>\n",
              "      <td>0.494056</td>\n",
              "      <td>-0.228126</td>\n",
              "      <td>0</td>\n",
              "    </tr>\n",
              "    <tr>\n",
              "      <th>4</th>\n",
              "      <td>0.030054</td>\n",
              "      <td>1.631884</td>\n",
              "      <td>1.234253</td>\n",
              "      <td>0.659787</td>\n",
              "      <td>0.960430</td>\n",
              "      <td>0.534312</td>\n",
              "      <td>0.589700</td>\n",
              "      <td>-0.761944</td>\n",
              "      <td>0.006525</td>\n",
              "      <td>-0.829509</td>\n",
              "      <td>...</td>\n",
              "      <td>-0.338515</td>\n",
              "      <td>-0.346844</td>\n",
              "      <td>1.447588</td>\n",
              "      <td>0.656681</td>\n",
              "      <td>0.415774</td>\n",
              "      <td>-0.362220</td>\n",
              "      <td>1.765107</td>\n",
              "      <td>1.242098</td>\n",
              "      <td>0.438919</td>\n",
              "      <td>0</td>\n",
              "    </tr>\n",
              "  </tbody>\n",
              "</table>\n",
              "<p>5 rows × 122 columns</p>\n",
              "</div>"
            ],
            "text/plain": [
              "   t1_world_rank  t2_world_rank  t1_h2h_win_perc  t1_player1_rating  \\\n",
              "0       0.570604       0.563511        -0.077581          -0.077794   \n",
              "1      -0.510496       0.029324        -0.441980           0.069722   \n",
              "2      -0.870862       1.809946        -0.077581           0.069722   \n",
              "3      -0.150129       0.563511        -0.077581          -0.372826   \n",
              "4       0.030054       1.631884         1.234253           0.659787   \n",
              "\n",
              "   t1_player1_dmr  t1_player1_apr  t1_player1_spr  t1_player1_opk_ratio  \\\n",
              "0        0.341513       -0.323080       -1.159974             -0.725623   \n",
              "1        0.407826        0.105616        0.006475             -0.689302   \n",
              "2       -0.188987        0.534312        1.172924             -0.725623   \n",
              "3        0.385722        1.391703        0.006475             -0.616660   \n",
              "4        0.960430        0.534312        0.589700             -0.761944   \n",
              "\n",
              "   t1_player1_wins_perc_after_fk  t1_player1_is_sniper  ...  \\\n",
              "0                      -1.171127             -0.829509  ...   \n",
              "1                      -0.137678             -0.829509  ...   \n",
              "2                       0.126693              1.205532  ...   \n",
              "3                      -0.017509             -0.829509  ...   \n",
              "4                       0.006525             -0.829509  ...   \n",
              "\n",
              "   player_wins_perc_after_fk_avg_diff  player_wins_perc_after_fk_max_diff  \\\n",
              "0                           -1.185168                           -0.753146   \n",
              "1                            1.392539                            1.142933   \n",
              "2                           -0.343908                           -1.452889   \n",
              "3                           -0.850821                           -0.098548   \n",
              "4                           -0.338515                           -0.346844   \n",
              "\n",
              "   t1_player_clutch_win_perc_avg  t2_player_clutch_win_perc_avg  \\\n",
              "0                      -1.815674                       0.474635   \n",
              "1                       1.441752                      -1.813220   \n",
              "2                       0.205811                       0.733252   \n",
              "3                      -0.504494                       0.539498   \n",
              "4                       1.447588                       0.656681   \n",
              "\n",
              "   t1_player_clutch_win_perc_max  t2_player_clutch_win_perc_max  \\\n",
              "0                      -1.772768                      -0.010151   \n",
              "1                      -0.199637                      -1.696377   \n",
              "2                      -0.265106                      -0.010151   \n",
              "3                      -0.700869                      -0.010151   \n",
              "4                       0.415774                      -0.362220   \n",
              "\n",
              "   t1_player_clutch_win_perc_min  t2_player_clutch_win_perc_min  \\\n",
              "0                      -0.928120                       0.494056   \n",
              "1                       1.851676                      -0.871935   \n",
              "2                      -0.147696                       0.902079   \n",
              "3                       0.172478                       0.494056   \n",
              "4                       1.765107                       1.242098   \n",
              "\n",
              "   player_clutch_win_perc_min_diff  winner  \n",
              "0                        -1.065008       0  \n",
              "1                         2.042061       0  \n",
              "2                        -0.768295       0  \n",
              "3                        -0.228126       0  \n",
              "4                         0.438919       0  \n",
              "\n",
              "[5 rows x 122 columns]"
            ]
          },
          "execution_count": 345,
          "metadata": {},
          "output_type": "execute_result"
        }
      ],
      "source": [
        "# Step 1: Calculate the correlation matrix\n",
        "corr_matrix = df.corr().abs()\n",
        "\n",
        "# Step 2: Identify highly correlated pairs\n",
        "threshold = 0.7\n",
        "upper_tri = corr_matrix.where(np.triu(np.ones(corr_matrix.shape), k=1).astype(bool))\n",
        "to_drop = [column for column in upper_tri.columns if any(upper_tri[column] > threshold)]\n",
        "\n",
        "# Step 3: Drop the features\n",
        "df_reduced = df.drop(to_drop, axis=1)\n",
        "\n",
        "df_reduced.head()"
      ]
    },
    {
      "cell_type": "markdown",
      "metadata": {
        "id": "OO_gGkBKiHlh"
      },
      "source": [
        "Feature selection using RandomForestClassifier\n",
        "\n"
      ]
    },
    {
      "cell_type": "code",
      "execution_count": 346,
      "metadata": {
        "colab": {
          "base_uri": "https://localhost:8080/",
          "height": 1000
        },
        "id": "Q5s3iymGgPSR",
        "outputId": "5996749e-c2e8-435f-eba6-bd1326ad7609"
      },
      "outputs": [],
      "source": [
        "X = df_reduced.drop('winner', axis=1)\n",
        "y = df_reduced['winner']\n",
        "\n",
        "model = RandomForestClassifier(random_state=42)\n",
        "model.fit(X, y)\n",
        "\n",
        "feature_importances = pd.DataFrame(model.feature_importances_,\n",
        "                                   index = X.columns,\n",
        "                                   columns=['importance']).sort_values('importance', ascending=False)\n",
        "print(feature_importances)\n",
        "\n",
        "# Select the top 10 most important features\n",
        "selected_features = feature_importances[:10].index\n",
        "\n",
        "# Filter your dataset to keep only the selected features\n",
        "X_selected = X[selected_features]\n",
        "\n",
        "import matplotlib.pyplot as plt\n",
        "\n",
        "feature_importances.head(10).sort_values('importance', ascending=True).plot(kind='barh', legend=None)\n",
        "plt.xlabel('Importance')\n",
        "plt.ylabel('Features')\n",
        "plt.title('Feature Importance')\n",
        "plt.show()\n",
        "\n",
        "\n",
        "data = pd.concat([X_selected, df['winner']], axis=1)\n",
        "data.head()"
      ]
    },
    {
      "cell_type": "markdown",
      "metadata": {
        "id": "AZBQVk57i-93"
      },
      "source": [
        "Correlational heatmap"
      ]
    },
    {
      "cell_type": "code",
      "execution_count": null,
      "metadata": {
        "colab": {
          "base_uri": "https://localhost:8080/",
          "height": 915
        },
        "id": "eFw1sHi8LMnk",
        "outputId": "caa5cdad-5910-49e3-c6a5-a40f419d0c41"
      },
      "outputs": [
        {
          "data": {
            "image/png": "[encoded data removed]",
            "text/plain": [
              "<Figure size 800x800 with 2 Axes>"
            ]
          },
          "metadata": {},
          "output_type": "display_data"
        }
      ],
      "source": [
        "plt.figure(figsize=(8, 8))\n",
        "sns.heatmap(data.corr().abs(), annot=True)\n",
        "plt.show()"
      ]
    },
    {
      "cell_type": "markdown",
      "metadata": {
        "id": "z1Gb6g31jUg1"
      },
      "source": [
        "Split data to train/test groups"
      ]
    },
    {
      "cell_type": "code",
      "execution_count": null,
      "metadata": {
        "id": "8LHw2ad0jXAv"
      },
      "outputs": [
        {
          "name": "stderr",
          "output_type": "stream",
          "text": [
            "/opt/homebrew/lib/python3.10/site-packages/numpy/core/fromnumeric.py:59: FutureWarning: 'DataFrame.swapaxes' is deprecated and will be removed in a future version. Please use 'DataFrame.transpose' instead.\n",
            "  return bound(*args, **kwds)\n"
          ]
        }
      ],
      "source": [
        "train, test = np.split(data.sample(frac=1), [int(0.8*len(data))])"
      ]
    },
    {
      "cell_type": "code",
      "execution_count": null,
      "metadata": {
        "id": "WaagBQxFjee4"
      },
      "outputs": [],
      "source": [
        "def split_dataset(dataframe):\n",
        "    # Separate features (X) and target (y) from the dataframe.\n",
        "    X = dataframe[dataframe.columns[:-1]].values\n",
        "    y = dataframe[dataframe.columns[-1]].values\n",
        "\n",
        "    # Combine the features and target into a single dataset.\n",
        "    data = np.hstack((X, np.reshape(y, (-1, 1))))\n",
        "\n",
        "    return data, X, y"
      ]
    },
    {
      "cell_type": "code",
      "execution_count": null,
      "metadata": {
        "id": "feKdK88cjbYh"
      },
      "outputs": [],
      "source": [
        "# Split the dataset into training and testing sets\n",
        "train, X_train, y_train = split_dataset(train)\n",
        "test, X_test, y_test = split_dataset(test)"
      ]
    },
    {
      "cell_type": "markdown",
      "metadata": {
        "id": "EB2veHVrjlg6"
      },
      "source": [
        "KNN"
      ]
    },
    {
      "cell_type": "code",
      "execution_count": null,
      "metadata": {
        "colab": {
          "base_uri": "https://localhost:8080/"
        },
        "id": "uFoXam2SIu9T",
        "outputId": "edd7b9ef-3516-4319-f4c0-cf24f1f4cfc6"
      },
      "outputs": [
        {
          "name": "stdout",
          "output_type": "stream",
          "text": [
            "              precision    recall  f1-score   support\n",
            "\n",
            "           0       0.54      0.73      0.62       320\n",
            "           1       0.59      0.38      0.46       325\n",
            "\n",
            "    accuracy                           0.56       645\n",
            "   macro avg       0.57      0.56      0.54       645\n",
            "weighted avg       0.57      0.56      0.54       645\n",
            "\n"
          ]
        }
      ],
      "source": [
        "# initialize the model\n",
        "knn_model = KNeighborsClassifier(n_neighbors=6)\n",
        "\n",
        "# fit the model\n",
        "knn_model.fit(X_train, y_train)\n",
        "\n",
        "# predict the target values\n",
        "y_pred = knn_model.predict(X_test)\n",
        "\n",
        "# print the classification report\n",
        "print(classification_report(y_test, y_pred))"
      ]
    },
    {
      "cell_type": "markdown",
      "metadata": {
        "id": "K3GJGbiej8F4"
      },
      "source": [
        "Decision Tree"
      ]
    },
    {
      "cell_type": "code",
      "execution_count": null,
      "metadata": {
        "colab": {
          "base_uri": "https://localhost:8080/"
        },
        "id": "JBMN0Q4XJP1b",
        "outputId": "2c28b7a9-14bc-4c2b-fed3-819764c33091"
      },
      "outputs": [
        {
          "name": "stdout",
          "output_type": "stream",
          "text": [
            "              precision    recall  f1-score   support\n",
            "\n",
            "           0       0.56      0.80      0.66       320\n",
            "           1       0.66      0.39      0.49       325\n",
            "\n",
            "    accuracy                           0.59       645\n",
            "   macro avg       0.61      0.60      0.58       645\n",
            "weighted avg       0.61      0.59      0.58       645\n",
            "\n"
          ]
        }
      ],
      "source": [
        "# initialize the model\n",
        "decision_tree_model = DecisionTreeClassifier(max_depth=4)\n",
        "\n",
        "# fit the model\n",
        "decision_tree_model.fit(X_train, y_train)\n",
        "\n",
        "# predict the labels of the test set\n",
        "y_pred_decision_tree = decision_tree_model.predict(X_test)\n",
        "\n",
        "# print the classification report\n",
        "print(classification_report(y_test, y_pred_decision_tree))"
      ]
    },
    {
      "cell_type": "markdown",
      "metadata": {
        "id": "Mp_-OhTMlsF0"
      },
      "source": [
        "Naive Bayes"
      ]
    },
    {
      "cell_type": "code",
      "execution_count": null,
      "metadata": {
        "colab": {
          "base_uri": "https://localhost:8080/"
        },
        "id": "DDQmQk5PJjec",
        "outputId": "dcb80031-ea0e-4f19-e345-c095c22bd577"
      },
      "outputs": [
        {
          "name": "stdout",
          "output_type": "stream",
          "text": [
            "              precision    recall  f1-score   support\n",
            "\n",
            "           0       0.58      0.65      0.62       320\n",
            "           1       0.61      0.54      0.58       325\n",
            "\n",
            "    accuracy                           0.60       645\n",
            "   macro avg       0.60      0.60      0.60       645\n",
            "weighted avg       0.60      0.60      0.60       645\n",
            "\n"
          ]
        }
      ],
      "source": [
        "# initialize the model\n",
        "naive_bayes_model = GaussianNB()\n",
        "\n",
        "# fit the model\n",
        "naive_bayes_model.fit(X_train, y_train)\n",
        "\n",
        "# make predictions\n",
        "y_pred_naive_bayes = naive_bayes_model.predict(X_test)\n",
        "\n",
        "# print the classification report\n",
        "print(classification_report(y_test, y_pred_naive_bayes))"
      ]
    },
    {
      "cell_type": "markdown",
      "metadata": {
        "id": "KKXpzseEl1Fo"
      },
      "source": [
        "Random Forests"
      ]
    },
    {
      "cell_type": "code",
      "execution_count": null,
      "metadata": {
        "colab": {
          "base_uri": "https://localhost:8080/"
        },
        "id": "B2QJPmxRl5z-",
        "outputId": "60bf2c3f-cd81-4c48-a491-f69b07e6419c"
      },
      "outputs": [
        {
          "name": "stdout",
          "output_type": "stream",
          "text": [
            "              precision    recall  f1-score   support\n",
            "\n",
            "           0       0.58      0.72      0.64       320\n",
            "           1       0.64      0.49      0.56       325\n",
            "\n",
            "    accuracy                           0.60       645\n",
            "   macro avg       0.61      0.61      0.60       645\n",
            "weighted avg       0.61      0.60      0.60       645\n",
            "\n"
          ]
        }
      ],
      "source": [
        "# instantiate the model\n",
        "random_forest_model = RandomForestClassifier(n_estimators=100, max_depth=4)\n",
        "\n",
        "# fit the model\n",
        "random_forest_model.fit(X_train, y_train)\n",
        "\n",
        "# predict the labels of the test set\n",
        "y_pred_random_forest = random_forest_model.predict(X_test)\n",
        "\n",
        "# generate the classification report\n",
        "print(classification_report(y_test, y_pred_random_forest))"
      ]
    },
    {
      "cell_type": "markdown",
      "metadata": {
        "id": "_QvZIxK3mAXz"
      },
      "source": [
        "Logistic Regression"
      ]
    },
    {
      "cell_type": "code",
      "execution_count": null,
      "metadata": {
        "colab": {
          "base_uri": "https://localhost:8080/"
        },
        "id": "jesq3rZfmAIK",
        "outputId": "78f03b7a-704a-4364-c17b-c915d1c3d16f"
      },
      "outputs": [
        {
          "name": "stdout",
          "output_type": "stream",
          "text": [
            "              precision    recall  f1-score   support\n",
            "\n",
            "           0       0.60      0.69      0.64       320\n",
            "           1       0.64      0.54      0.58       325\n",
            "\n",
            "    accuracy                           0.61       645\n",
            "   macro avg       0.62      0.61      0.61       645\n",
            "weighted avg       0.62      0.61      0.61       645\n",
            "\n"
          ]
        }
      ],
      "source": [
        "# Fit logistic regression model\n",
        "logistic_regression_model = LogisticRegression(max_iter=1000)\n",
        "\n",
        "# Train logistic regression model\n",
        "logistic_regression_model.fit(X_train, y_train)\n",
        "\n",
        "# Test logistic regression model\n",
        "y_pred_logistic_regression = logistic_regression_model.predict(X_test)\n",
        "\n",
        "# Print classification report\n",
        "print(classification_report(y_test, y_pred_logistic_regression))"
      ]
    },
    {
      "cell_type": "markdown",
      "metadata": {
        "id": "HVIfT46QmJ_J"
      },
      "source": [
        "XGBoost"
      ]
    },
    {
      "cell_type": "code",
      "execution_count": null,
      "metadata": {
        "colab": {
          "base_uri": "https://localhost:8080/"
        },
        "id": "B5FmqK-qmMQR",
        "outputId": "beb2c675-af29-4b0c-f08d-686cc92630c7"
      },
      "outputs": [
        {
          "name": "stdout",
          "output_type": "stream",
          "text": [
            "              precision    recall  f1-score   support\n",
            "\n",
            "           0       0.56      0.70      0.62       320\n",
            "           1       0.61      0.47      0.53       325\n",
            "\n",
            "    accuracy                           0.58       645\n",
            "   macro avg       0.59      0.58      0.58       645\n",
            "weighted avg       0.59      0.58      0.58       645\n",
            "\n"
          ]
        }
      ],
      "source": [
        "#initiate the model\n",
        "xgboost_model = XGBClassifier(n_estimators=40, max_depth=3)\n",
        "\n",
        "#fit the model\n",
        "xgboost_model.fit(X_train, y_train)\n",
        "\n",
        "#predict the test set\n",
        "y_pred_xgboost = xgboost_model.predict(X_test)\n",
        "\n",
        "#print the classification report\n",
        "print(classification_report(y_test, y_pred_xgboost))"
      ]
    }
  ],
  "metadata": {
    "colab": {
      "provenance": []
    },
    "kernelspec": {
      "display_name": "Python 3",
      "name": "python3"
    },
    "language_info": {
      "codemirror_mode": {
        "name": "ipython",
        "version": 3
      },
      "file_extension": ".py",
      "mimetype": "text/x-python",
      "name": "python",
      "nbconvert_exporter": "python",
      "pygments_lexer": "ipython3",
      "version": "3.10.8"
    }
  },
  "nbformat": 4,
  "nbformat_minor": 0
}
